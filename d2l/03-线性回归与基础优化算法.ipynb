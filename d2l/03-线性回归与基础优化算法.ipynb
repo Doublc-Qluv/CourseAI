{
 "cells": [
  {
   "attachments": {},
   "cell_type": "markdown",
   "metadata": {},
   "source": [
    "# 线性回归_房价预测任务\n",
    "## 一个简化模型\n",
    "\n",
    "- 假设一： 影响房价的关键因素是卧室的个数、卫生间的格式和居住面积\n",
    "- 假设二： 成交价是关键因素的加权和\n",
    "\n",
    "$$\n",
    "y=w_1 x_1 + w_2 x_2 + w_3 x_3 + b\n",
    "$$ \n",
    "权重和偏差的实际值在后面决定\n",
    "\n"
   ]
  },
  {
   "attachments": {},
   "cell_type": "markdown",
   "metadata": {},
   "source": [
    "## 线性模型\n",
    "\n",
    "- 给定n维输入 $x=[x_1 , x_2 , ... , x_n]^T$\n",
    "- 线性模型有一个n维权重和一个标量偏差$$w=[w_1 , w_2 ,...,w_n]^T, b$$\n",
    "- 输出是输入的加权和$$y=w_1 x_1 + w_2 x_2+...+w_n x_n + b$$\n",
    "- 向量版本$$y = <w,x> + b$$\n",
    "- 线性模型可以看作是一个单层神经网络\n",
    "\n"
   ]
  },
  {
   "attachments": {},
   "cell_type": "markdown",
   "metadata": {},
   "source": [
    "## 衡量预估质量\n",
    "- 比较真实值和预估值，例如房屋售价和估价\n",
    "- 假设$y$是真实值，$\\hat{y}$是估计值，我们可以比较 $$l(y,\\hat{y})=\\frac{1}{2}(y-\\hat{y})^2$$ 这个叫做平方损失\n",
    "\n"
   ]
  },
  {
   "attachments": {},
   "cell_type": "markdown",
   "metadata": {},
   "source": [
    "## 训练数据\n",
    "- 收集一些数据点来决定参数值(权重和偏差)，例如过去六个月卖的房子\n",
    "- 这些被称之为训练数据\n",
    "- 通常越多越好\n",
    "- 假设我们有n个样本，记 $$X=[x_1 , x_2 , ... , x_n]^T 和 y=[y_1 , y_2 ,..., y_n]^T$$\n",
    "\n"
   ]
  },
  {
   "attachments": {},
   "cell_type": "markdown",
   "metadata": {},
   "source": [
    "## 参数学习\n",
    "\n",
    "- 训练损失 $$l(X,y,w,b)=\\frac{1}{2n} \\sum^{n}_{2n}{(y_i <x_i ,w>-b)^2} = \\frac{1}{2n}||y-Xw-b||^2$$\n",
    "- 最小化损失来学习参数 $$w^* ,b^* = \\arg{\\min_{W,b}{l(X,y,w,b)}}$$"
   ]
  },
  {
   "attachments": {},
   "cell_type": "markdown",
   "metadata": {},
   "source": [
    "## 显示解\n",
    "\n",
    "- 偏差加入权重 $X \\leftarrow[X,1]和w\\leftarrow [w,b]^T$ $$l(X,y,w)=\\frac{1}{2n} ||y-Xw||^2 ,偏导：\\frac{\\partial}{\\partial w}l(X,y,w)=\\frac{1}{n}(y-Xw)^T X$$\n",
    "- 损失函数是凸函数，所以最优解满足：$$\\frac{\\partial}{\\partial w}l(X,y,w)=0 \\\\ \\Leftrightarrow \\frac{1}{n}(y-Xw)^T X=0 \\\\ \\Leftrightarrow w^*=(X^T X )^{-1}Xy$$"
   ]
  },
  {
   "attachments": {},
   "cell_type": "markdown",
   "metadata": {},
   "source": [
    "## 总结\n",
    "- 线性回归是对n维输入的加权，外加偏差\n",
    "- 使用平方损失来衡量与测试值和真实值地方差异\n",
    "- 线性回归有显示解\n",
    "- 线性回归可以看作是单层神经网络"
   ]
  },
  {
   "attachments": {},
   "cell_type": "markdown",
   "metadata": {},
   "source": [
    "# 基础优化算法\n",
    "\n",
    "## 梯度下降\n",
    "- 挑选一个初始值$w_0$\n",
    "- 重复迭代参数$t=1,2,3$ $$w_t = w_{t-1} -\\eta \\frac{\\partial{l}}{\\partial w_{t-1}}$$\n",
    "- 沿梯度方向将增加损失函数值\n",
    "- 学习率：步长的超参数\n"
   ]
  },
  {
   "attachments": {},
   "cell_type": "markdown",
   "metadata": {},
   "source": [
    "\n",
    "## 选择学习率\n",
    "- 不能太小：步长有限需要太多步骤\n",
    "- 不能太大：步长过大会导致结果一直震荡无法成功\n"
   ]
  },
  {
   "attachments": {},
   "cell_type": "markdown",
   "metadata": {},
   "source": [
    "\n",
    "## 小批量随机梯度下降\n",
    "- 在整个训练集上算梯度太贵\n",
    "  - 在一个深度神经网路模型可能需要数分钟至数小时\n",
    "- 我们可以随机采样b个样本$i_1, i_2,…, i_b$来接近损失 $$ \\frac{1}{b}\\sum_{i\\in I_b}{l(x_i , y_i , w)}$$\n",
    "  - b是批量大小，另一个重要的超参数\n",
    "- 批量大小\n",
    "  - 不能太大：不适合并行来最大利用计算资源\n",
    "  - 不能太大：内存消耗增加，浪费计算资源\n"
   ]
  },
  {
   "attachments": {},
   "cell_type": "markdown",
   "metadata": {},
   "source": [
    "\n",
    "## 总结\n",
    "- 梯度下降通过不断沿着反梯度方向更新参数求解\n",
    "- 小批量随机梯度下降是深度学习默认的求解算法\n",
    "- 两个重要的超参数是批量大小和学习率"
   ]
  },
  {
   "attachments": {},
   "cell_type": "markdown",
   "metadata": {},
   "source": [
    "# 线性回归的从零开始实现\n",
    "\n",
    "流水线、模型、损失函数、小批量随机梯度下降优化器"
   ]
  },
  {
   "cell_type": "code",
   "execution_count": 1,
   "metadata": {},
   "outputs": [],
   "source": [
    "%matplotlib inline\n",
    "import random\n",
    "import torch"
   ]
  },
  {
   "attachments": {},
   "cell_type": "markdown",
   "metadata": {},
   "source": [
    "## 生成数据集\n",
    "根据带有噪声的线性模型构造一个人造数据集。我们使用线性模型参数$w=[2,3,-4]^T、b=4.2$和噪声项$\\epsilon$生成数据集及其标签：$$y=Xw+b+\\epsilon$$"
   ]
  },
  {
   "cell_type": "code",
   "execution_count": 2,
   "metadata": {},
   "outputs": [],
   "source": [
    "def synthetic_data(w,b,num_examples):\n",
    "    \"\"\"生成 y = Xw + b + 噪声。\"\"\"\n",
    "    X = torch.normal(0, 1, (num_examples,len(w)))\n",
    "    y = torch.matmul(X, w) + b\n",
    "    y += torch.normal(0, 0.01, y.shape)\n",
    "    return X, y.reshape((-1, 1))\n",
    "true_w = torch.tensor([2,-3.4])\n",
    "true_b = 4.2\n",
    "features, labels = synthetic_data(true_w, true_b, 1000)"
   ]
  },
  {
   "attachments": {},
   "cell_type": "markdown",
   "metadata": {},
   "source": [
    "## features\n",
    "每一行都包含一个二维数据数据样本，labels中的每一行都包含一维标签值（一个标量）"
   ]
  },
  {
   "cell_type": "code",
   "execution_count": 3,
   "metadata": {},
   "outputs": [
    {
     "name": "stdout",
     "output_type": "stream",
     "text": [
      "features: tensor([-0.2267,  0.7970]) \n",
      "label: tensor([1.0254])\n"
     ]
    }
   ],
   "source": [
    "print('features:',features[0],'\\nlabel:',labels[0])"
   ]
  },
  {
   "cell_type": "code",
   "execution_count": 4,
   "metadata": {},
   "outputs": [
    {
     "data": {
      "image/png": "[encoded data removed]",
      "text/plain": [
       "<Figure size 640x480 with 1 Axes>"
      ]
     },
     "metadata": {},
     "output_type": "display_data"
    }
   ],
   "source": [
    "import matplotlib.pylab as plt\n",
    "# detach()分离出数值，不在含有梯度\n",
    "plt.scatter(features[:,1].detach().numpy(), labels.detach().numpy(), 1)\n",
    "plt.show()"
   ]
  },
  {
   "attachments": {},
   "cell_type": "markdown",
   "metadata": {},
   "source": [
    "## 小批量batch\n",
    "定义一个`data_iter`函数，该函数接收批量大小、矩阵特征和标签向量作为输入，生成`batch_size`的小批量"
   ]
  },
  {
   "cell_type": "code",
   "execution_count": 7,
   "metadata": {},
   "outputs": [
    {
     "name": "stdout",
     "output_type": "stream",
     "text": [
      "tensor([[ 0.1880, -0.6219],\n",
      "        [-0.8477,  0.0240],\n",
      "        [ 0.0838, -0.4730],\n",
      "        [ 0.0949, -0.2394],\n",
      "        [ 0.2814,  1.2706],\n",
      "        [-0.2651, -0.0408],\n",
      "        [-0.5344, -0.8065],\n",
      "        [ 0.4545, -0.4772],\n",
      "        [ 0.1543,  2.1143],\n",
      "        [ 0.1255, -0.4825]]) \n",
      " tensor([[ 6.6808],\n",
      "        [ 2.4198],\n",
      "        [ 5.9697],\n",
      "        [ 5.2027],\n",
      "        [ 0.4576],\n",
      "        [ 3.8088],\n",
      "        [ 5.8805],\n",
      "        [ 6.7209],\n",
      "        [-2.6790],\n",
      "        [ 6.0811]])\n"
     ]
    }
   ],
   "source": [
    "def data_iter(batch_size, features, labels):\n",
    "    num_examples = len(features)\n",
    "    indices = list(range(num_examples))\n",
    "    # 随机读取样本，无特定顺序\n",
    "    random.shuffle(indices)\n",
    "    for i in range(0, num_examples, batch_size):\n",
    "        batch_indices = torch.tensor(indices[i:min(i+batch_size,num_examples)])\n",
    "        yield features[batch_indices], labels[batch_indices]\n",
    "\n",
    "batch_size = 10\n",
    "\n",
    "for X, y in data_iter(batch_size, features, labels):\n",
    "    print(X,'\\n',y)\n",
    "    break"
   ]
  },
  {
   "attachments": {},
   "cell_type": "markdown",
   "metadata": {},
   "source": [
    "## 初始化参数模型"
   ]
  },
  {
   "cell_type": "code",
   "execution_count": 8,
   "metadata": {},
   "outputs": [],
   "source": [
    "w = torch.normal(0, 0.01, size=(2, 1), requires_grad=True)\n",
    "b = torch.zeros(1, requires_grad=True)"
   ]
  },
  {
   "attachments": {},
   "cell_type": "markdown",
   "metadata": {},
   "source": [
    "## 定义模型"
   ]
  },
  {
   "cell_type": "code",
   "execution_count": 14,
   "metadata": {},
   "outputs": [],
   "source": [
    "def linreg(X, w, b):\n",
    "    \"\"\"线性回归模型。\"\"\"\n",
    "    return torch.matmul(X, w) + b"
   ]
  },
  {
   "attachments": {},
   "cell_type": "markdown",
   "metadata": {},
   "source": [
    "## 定义损失函数"
   ]
  },
  {
   "cell_type": "code",
   "execution_count": 10,
   "metadata": {},
   "outputs": [],
   "source": [
    "def squared_loss(y_hat, y):\n",
    "    \"\"\"均方损失\"\"\"\n",
    "    return(y_hat - y.reshape(y_hat.shape))**2/2"
   ]
  },
  {
   "attachments": {},
   "cell_type": "markdown",
   "metadata": {},
   "source": [
    "## 定义优化方法"
   ]
  },
  {
   "cell_type": "code",
   "execution_count": 12,
   "metadata": {},
   "outputs": [],
   "source": [
    "def sgd(params, lr, batch_size):\n",
    "    \"\"\"小批量随机梯度下降。\"\"\"\n",
    "    with torch.no_grad():\n",
    "        for param in params:\n",
    "            param -= lr * param.grad / batch_size\n",
    "            param.grad.zero_()"
   ]
  },
  {
   "attachments": {},
   "cell_type": "markdown",
   "metadata": {},
   "source": [
    "## 训练过程"
   ]
  },
  {
   "cell_type": "code",
   "execution_count": 15,
   "metadata": {},
   "outputs": [
    {
     "name": "stdout",
     "output_type": "stream",
     "text": [
      "epoch 1, loss 0.038230\n",
      "epoch 2, loss 0.000148\n",
      "epoch 3, loss 0.000053\n"
     ]
    }
   ],
   "source": [
    "lr = 0.03\n",
    "num_epochs = 3\n",
    "net = linreg\n",
    "loss = squared_loss\n",
    "\n",
    "for epoch in range(num_epochs):\n",
    "    for X,y in data_iter(batch_size, features,labels):\n",
    "        l = loss(net(X, w, b), y) # X和y的小批量损失\n",
    "        # 因为'l'的形状是('batch_size',1)，而不是一个标量。'l'中的所有元素被加到一起\n",
    "        # 并以此计算关于['w', 'b']的梯度\n",
    "        l.sum().backward()\n",
    "        sgd([w,b], lr, batch_size)\n",
    "    with torch.no_grad():\n",
    "        train_1 = loss(net(features, w, b), labels)\n",
    "        print(f'epoch {epoch + 1}, loss {float(train_1.mean()):f}')"
   ]
  }
 ],
 "metadata": {
  "kernelspec": {
   "display_name": "torch",
   "language": "python",
   "name": "python3"
  },
  "language_info": {
   "codemirror_mode": {
    "name": "ipython",
    "version": 3
   },
   "file_extension": ".py",
   "mimetype": "text/x-python",
   "name": "python",
   "nbconvert_exporter": "python",
   "pygments_lexer": "ipython3",
   "version": "3.7.0"
  },
  "orig_nbformat": 4,
  "vscode": {
   "interpreter": {
    "hash": "bfe6d3f1965e0851ced6ef17603d711146f9008773bc29cbeb0f6fa859e66f8f"
   }
  }
 },
 "nbformat": 4,
 "nbformat_minor": 2
}
