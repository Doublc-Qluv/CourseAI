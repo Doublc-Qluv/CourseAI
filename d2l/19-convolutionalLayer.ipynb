{
 "cells": [
  {
   "attachments": {},
   "cell_type": "markdown",
   "metadata": {},
   "source": [
    "# 从全连接到卷积"
   ]
  },
  {
   "attachments": {},
   "cell_type": "markdown",
   "metadata": {},
   "source": [
    "## 分类猫和狗的图片\n",
    "\n",
    "- 使用一个还不错的相机采集图片（12M像素）\n",
    "- RTB图片有36M元素\n",
    "- 使用100大小的单隐藏层MLP，模型有3.6B元素\n",
    "  - 远多于世界上所有猫和狗的总数（900M狗，600M猫）\n",
    "\n",
    "## 回顾：单隐藏层MLP\n",
    "3.6B参数=14GB\n",
    "## 例子：Waldo在哪里\n",
    "\n",
    "在图片里面找Waldo\n",
    "\n",
    "- 两个原则\n",
    "  - 平移不变性\n",
    "  - 局部性\n",
    "\n",
    "## 重新考察全连接层\n",
    "- 将输入和输出变形为矩阵（宽度，高度）\n",
    "- 将权重变形为4-D张量$(h,w)到(h',w')$ $$h_{i,j}=\\sum_{k,l}{w_{i,j,k,l}x_{k,l}}=\\sum_{a,b}{v_{i,j,a,b}x_{i+a, j+b}} $$\n",
    "- V是W的重新索引$v_{i,j,a,b}=w_{i,j,i+a,j+b}$\n",
    "\n",
    "## 原则 #1-平移不变性\n",
    "- x的平移导致h的平移$h_{i,j}=\\sum_{a,b}{v_{i,j,a,b}x_{i+a, j+b}}$\n",
    "- v不应依赖于(i,j)\n",
    "- 解决方案：令$v_{i,j,a,b}=v_{a,b}$ $$h_{i,j}=\\sum_{a,b}{v_{a,b}x_{i+a, j+b}}$$\n",
    "- 这就是2维 ~~卷积~~ 交叉相关\n",
    "\n",
    "## 原则 #2-局部性\n",
    "$$h_{i,j}=\\sum_{a,b}{v_{a,b}x_{i+a, j+b}}$$\n",
    "- 当评估$h_{i,j}$时，我们不应该用远离$x_{i,j}$的参数\n",
    "- 解决方案：当$|a|,|b|>\\Delta时，使得v_{a,b}=0$ $$h_{i,j}=\\sum_{a=-\\Delta}\\sum_{b=-\\Delta}{v_{a,b}x_{i+a, j+b}} $$\n",
    "\n",
    "## 总结\n",
    "- 对全连接层使用平移不变性和局部性得到卷积层\n",
    "$$\n",
    "\\begin{align}\n",
    "h_{i,j}&=\\sum_{a,b}{v_{i,j,a,b}x_{i+a, j+b}}\\\\\n",
    "&=\\sum_{a,b}{v_{a,b}x_{i+a, j+b}}\\\\\n",
    "&=\\sum_{a=-\\Delta}\\sum_{b=-\\Delta}{v_{a,b}x_{i+a, j+b}}\\\\\n",
    "\\end{align}\n",
    "$$"
   ]
  },
  {
   "attachments": {},
   "cell_type": "markdown",
   "metadata": {},
   "source": [
    "# 卷积层\n",
    "\n",
    "二维交叉相关\n",
    "\n",
    "$$Input*Kernel=Output$$\n",
    "## 二维卷积层\n",
    "- 输入$X: n_h \\times n_w$\n",
    "- 核$W: k_h \\times k_w$\n",
    "- 偏差$b \\in \\mathbb{R}$\n",
    "- 输出$Y: (n_h - k_h +1)\\times(n_w - k_w +1)$即：$$Y=X*W+b$$\n",
    "- $W$ 和 $b$是可学习的参数\n",
    "\n",
    "## 例子\n",
    "\n",
    "原始图片(矩阵)*核K\n",
    "\n",
    "$$\\begin{align}\n",
    "K&=\\left[\\begin{matrix}\n",
    "-1& -1& -1\\\\\n",
    "-1&  8& -1\\\\\n",
    "-1& -1& -1\n",
    "\\end{matrix}\\right]\\rightarrow 边缘检测\\\\\n",
    "K&=\\left[\\begin{matrix}\n",
    " 0& -1&  0\\\\\n",
    "-1&  5& -1\\\\\n",
    " 0& -1&  0\n",
    "\\end{matrix}\\right]\\rightarrow 锐化\\\\\n",
    "K&=\\frac{1}{16}\\left[\\begin{matrix}\n",
    "1& 2& 1\\\\\n",
    "2& 4& 2\\\\\n",
    "1& 2& 1\n",
    "\\end{matrix}\\right]\\rightarrow 高斯模糊\n",
    "\\end{align}\n",
    "$$\n",
    "\n",
    "## 交叉相关和卷积\n",
    "- 二维交叉相关$$y_{i,j}=\\sum_{a=1}^{h}\\sum_{b=1}^{w}{W_{a,b}x_{i+a, j+b}}$$\n",
    "- 二维卷积$$y_{i,j}=\\sum_{a=1}^{h}\\sum_{b=1}^{w}{W_{-a,-b}x_{i+a, j+b}}$$\n",
    "- 由于对称性，在实际使用中没有区别\n",
    "\n",
    "## 一维和三维交叉相关\n",
    "- 一维$$y_{i}=\\sum_{a=1}^{h}{W_{a}x_{i+a}}$$\n",
    "  - 文本\n",
    "  - 语言\n",
    "  - 时序序列\n",
    "- 三维$$y_{i,j,k}=\\sum_{a=1}^{h}\\sum_{b=1}^{w}\\sum_{c=1}^{d}{W_{a,b,c}x_{i+a, j+b, k+c}}$$\n",
    "  - 视频\n",
    "  - 医学图像\n",
    "  - 气象地图\n",
    "\n",
    "## 总结\n",
    "- 卷积层将输入和核矩阵进行交叉相关，加上偏移之后得到输出\n",
    "- 核矩阵和偏移是可学习的参数\n",
    "- 核矩阵的大小是超参数"
   ]
  },
  {
   "attachments": {},
   "cell_type": "markdown",
   "metadata": {},
   "source": [
    "# 图像卷积"
   ]
  },
  {
   "cell_type": "code",
   "execution_count": 1,
   "metadata": {},
   "outputs": [],
   "source": [
    "import torch\n",
    "from torch import nn\n",
    "import d2l_source.d2l as d2l"
   ]
  },
  {
   "attachments": {},
   "cell_type": "markdown",
   "metadata": {},
   "source": [
    "二维互相关"
   ]
  },
  {
   "cell_type": "code",
   "execution_count": 2,
   "metadata": {},
   "outputs": [],
   "source": [
    "def corr2d(X, K): \n",
    "    \"\"\"计算二维互相关运算\"\"\"\n",
    "    h, w = K.shape\n",
    "    Y = torch.zeros((X.shape[0] - h + 1, X.shape[1] - w + 1))\n",
    "    for i in range(Y.shape[0]):\n",
    "        for j in range(Y.shape[1]):\n",
    "            Y[i, j] = (X[i:i + h, j:j + w] * K).sum()\n",
    "    return Y"
   ]
  },
  {
   "attachments": {},
   "cell_type": "markdown",
   "metadata": {},
   "source": [
    "验证输出"
   ]
  },
  {
   "cell_type": "code",
   "execution_count": 3,
   "metadata": {},
   "outputs": [
    {
     "data": {
      "text/plain": [
       "tensor([[19., 25.],\n",
       "        [37., 43.]])"
      ]
     },
     "execution_count": 3,
     "metadata": {},
     "output_type": "execute_result"
    }
   ],
   "source": [
    "X = torch.tensor([[0.0, 1.0, 2.0], [3.0, 4.0, 5.0], [6.0, 7.0, 8.0]])\n",
    "K = torch.tensor([[0.0, 1.0], [2.0, 3.0]])\n",
    "corr2d(X, K)"
   ]
  },
  {
   "attachments": {},
   "cell_type": "markdown",
   "metadata": {},
   "source": [
    "实现二维卷积层"
   ]
  },
  {
   "cell_type": "code",
   "execution_count": 4,
   "metadata": {},
   "outputs": [],
   "source": [
    "class Conv2D(nn.Module):\n",
    "    def __init__(self, kernel_size):\n",
    "        super().__init__()\n",
    "        self.weight = nn.Parameter(torch.rand(kernel_size))\n",
    "        self.bias = nn.Parameter(torch.zeros(1))\n",
    "\n",
    "    def forward(self, x):\n",
    "        return corr2d(x, self.weight) + self.bias"
   ]
  },
  {
   "attachments": {},
   "cell_type": "markdown",
   "metadata": {},
   "source": [
    "## 简单应用，检测不同颜色的边缘"
   ]
  },
  {
   "cell_type": "code",
   "execution_count": 5,
   "metadata": {},
   "outputs": [
    {
     "data": {
      "text/plain": [
       "tensor([[1., 1., 0., 0., 0., 0., 1., 1.],\n",
       "        [1., 1., 0., 0., 0., 0., 1., 1.],\n",
       "        [1., 1., 0., 0., 0., 0., 1., 1.],\n",
       "        [1., 1., 0., 0., 0., 0., 1., 1.],\n",
       "        [1., 1., 0., 0., 0., 0., 1., 1.],\n",
       "        [1., 1., 0., 0., 0., 0., 1., 1.]])"
      ]
     },
     "execution_count": 5,
     "metadata": {},
     "output_type": "execute_result"
    }
   ],
   "source": [
    "X = torch.ones((6, 8))\n",
    "X[:, 2:6] = 0\n",
    "X"
   ]
  },
  {
   "attachments": {},
   "cell_type": "markdown",
   "metadata": {},
   "source": [
    "### 预设核矩阵"
   ]
  },
  {
   "cell_type": "code",
   "execution_count": 6,
   "metadata": {},
   "outputs": [],
   "source": [
    "K = torch.tensor([[1.0, -1.0]])"
   ]
  },
  {
   "attachments": {},
   "cell_type": "markdown",
   "metadata": {},
   "source": [
    "### 检测输出\n",
    "\n",
    "1代表白色到黑色的边缘，-1代表黑色到白色的边缘"
   ]
  },
  {
   "cell_type": "code",
   "execution_count": 7,
   "metadata": {},
   "outputs": [
    {
     "data": {
      "text/plain": [
       "tensor([[ 0.,  1.,  0.,  0.,  0., -1.,  0.],\n",
       "        [ 0.,  1.,  0.,  0.,  0., -1.,  0.],\n",
       "        [ 0.,  1.,  0.,  0.,  0., -1.,  0.],\n",
       "        [ 0.,  1.,  0.,  0.,  0., -1.,  0.],\n",
       "        [ 0.,  1.,  0.,  0.,  0., -1.,  0.],\n",
       "        [ 0.,  1.,  0.,  0.,  0., -1.,  0.]])"
      ]
     },
     "execution_count": 7,
     "metadata": {},
     "output_type": "execute_result"
    }
   ],
   "source": [
    "Y = corr2d(X, K)\n",
    "Y"
   ]
  },
  {
   "attachments": {},
   "cell_type": "markdown",
   "metadata": {},
   "source": [
    "### 只能检测垂直的边缘"
   ]
  },
  {
   "cell_type": "code",
   "execution_count": 8,
   "metadata": {},
   "outputs": [
    {
     "data": {
      "text/plain": [
       "tensor([[0., 0., 0., 0., 0.],\n",
       "        [0., 0., 0., 0., 0.],\n",
       "        [0., 0., 0., 0., 0.],\n",
       "        [0., 0., 0., 0., 0.],\n",
       "        [0., 0., 0., 0., 0.],\n",
       "        [0., 0., 0., 0., 0.],\n",
       "        [0., 0., 0., 0., 0.],\n",
       "        [0., 0., 0., 0., 0.]])"
      ]
     },
     "execution_count": 8,
     "metadata": {},
     "output_type": "execute_result"
    }
   ],
   "source": [
    "corr2d(X.t(), K)"
   ]
  },
  {
   "attachments": {},
   "cell_type": "markdown",
   "metadata": {},
   "source": [
    "## 学习由`X`生成`Y`的卷积核"
   ]
  },
  {
   "cell_type": "code",
   "execution_count": 17,
   "metadata": {},
   "outputs": [
    {
     "name": "stdout",
     "output_type": "stream",
     "text": [
      "epoch 2, loss 4.998\n",
      "epoch 4, loss 1.568\n",
      "epoch 6, loss 0.562\n",
      "epoch 8, loss 0.217\n",
      "epoch 10, loss 0.087\n"
     ]
    }
   ],
   "source": [
    "# 构造一个二维卷积层，它具有1个输出通道和形状为（1，2）的卷积核\n",
    "conv2d = nn.Conv2d(1,1, kernel_size=(1, 2), bias=False)\n",
    "\n",
    "# 这个二维卷积层使用四维输入和输出格式（批量大小、通道、高度、宽度），\n",
    "# 其中批量大小和通道数都为1\n",
    "X = X.reshape((1, 1, 6, 8))\n",
    "Y = Y.reshape((1, 1, 6, 7))\n",
    "lr = 3e-2  # 学习率\n",
    "\n",
    "for i in range(10):\n",
    "    Y_hat = conv2d(X)\n",
    "    l = (Y_hat - Y) ** 2\n",
    "    conv2d.zero_grad()\n",
    "    l.sum().backward()\n",
    "    # 迭代卷积核\n",
    "    conv2d.weight.data[:] -= lr * conv2d.weight.grad\n",
    "    if (i + 1) % 2 == 0:\n",
    "        print(f'epoch {i+1}, loss {l.sum():.3f}')"
   ]
  },
  {
   "attachments": {},
   "cell_type": "markdown",
   "metadata": {},
   "source": [
    "所学到的卷积核权重张量"
   ]
  },
  {
   "cell_type": "code",
   "execution_count": 18,
   "metadata": {},
   "outputs": [
    {
     "data": {
      "text/plain": [
       "tensor([[ 0.9626, -1.0228]])"
      ]
     },
     "execution_count": 18,
     "metadata": {},
     "output_type": "execute_result"
    }
   ],
   "source": [
    "conv2d.weight.data.reshape((1, 2))"
   ]
  }
 ],
 "metadata": {
  "kernelspec": {
   "display_name": "torch",
   "language": "python",
   "name": "python3"
  },
  "language_info": {
   "codemirror_mode": {
    "name": "ipython",
    "version": 3
   },
   "file_extension": ".py",
   "mimetype": "text/x-python",
   "name": "python",
   "nbconvert_exporter": "python",
   "pygments_lexer": "ipython3",
   "version": "3.7.0 (default, Jun 28 2018, 08:04:48) [MSC v.1912 64 bit (AMD64)]"
  },
  "orig_nbformat": 4,
  "vscode": {
   "interpreter": {
    "hash": "bfe6d3f1965e0851ced6ef17603d711146f9008773bc29cbeb0f6fa859e66f8f"
   }
  }
 },
 "nbformat": 4,
 "nbformat_minor": 2
}
