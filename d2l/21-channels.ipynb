{
 "cells": [
  {
   "attachments": {},
   "cell_type": "markdown",
   "metadata": {},
   "source": [
    "# 多输入输出通道\n",
    "\n",
    "## 多个输入通道\n",
    "- 彩色图像可能有RGB三个通道\n",
    "- 转为灰度会丢失信息\n",
    "\n",
    "- 每个通道都有一个卷积核，结果是所有通道卷积结果的\n",
    "- \n",
    "- 输入$X: c_i \\times n_h \\times n_w$\n",
    "- 核$W: c_i\\times k_h \\times k_w$\n",
    "- 输出$Y: m_h \\times m_w$ $$Y=\\sum_{i=0}{c_i}x_{i,:,:}*W_{i.:,:}$$\n",
    "\n",
    "## 多个输出通道\n",
    "- 无论有多少输入通道，到目前为止我们只用到单输出通道\n",
    "- 我们可以有多个三维卷积核，每个核生成一个输出通道\n",
    "- 输入$X: c_i \\times n_h \\times n_w$\n",
    "- 核$W: c_o \\times c_i\\times k_h \\times k_w$\n",
    "- 输出$Y:c_o \\times m_h \\times m_w$ $$Y=\\sum_{i=0}{c_i}x_{i,:,:}*W_{i.:,:}\\quad for \\ i=1,…,c_o$$\n",
    "\n",
    "- 每个输出通道可以识别特定模式\n",
    "- 输入通道核识别并组合输入中的模式\n",
    "\n",
    "## $1\\times 1卷积层$\n",
    "- $k_h =k_w =1$是一个受欢迎的选择。他不识别空间模式，只是融合通道。\n",
    "- 相当于输入形状为$n_h n_w \\times c_i $，权重为$c_o \\times c_i$的全连接\n",
    "\n",
    "## 二维卷积层\n",
    "- 输入$X: c_i \\times n_h \\times n_w$\n",
    "- 核$W: c_o \\times c_i\\times k_h \\times k_w$\n",
    "- 偏差$B: c_o \\times c_i$\n",
    "- 输出$Y:c_o \\times m_h \\times m_w$ $$Y=X*W+B$$\n",
    "- 计算复杂度：$O(c_i c_o k_h k_w m_h m_w)$\n",
    "\n",
    "## 总结\n",
    "- 输出通道数是卷积层的超参数\n",
    "- 每个输入通道有独立的二维卷积核，所有通道结果相加得到一个输出通道结果\n",
    "- 每个输出通道有独立的三维卷积核"
   ]
  },
  {
   "attachments": {},
   "cell_type": "markdown",
   "metadata": {},
   "source": [
    "# 代码实现"
   ]
  },
  {
   "attachments": {},
   "cell_type": "markdown",
   "metadata": {},
   "source": [
    "## 多输入多输出通道"
   ]
  },
  {
   "attachments": {},
   "cell_type": "markdown",
   "metadata": {},
   "source": [
    "多输入通道互相关运算"
   ]
  },
  {
   "cell_type": "code",
   "execution_count": 1,
   "metadata": {},
   "outputs": [],
   "source": [
    "import torch\n",
    "import d2l_source.d2l as d2l\n",
    "\n",
    "\n",
    "def corr2d_multi_in(X, K):\n",
    "    # 先遍历“X”和“K”的第0个维度（通道维度），再把它们加在一起\n",
    "    return sum(d2l.corr2d(x, k) for x, k in zip(X, K))"
   ]
  },
  {
   "attachments": {},
   "cell_type": "markdown",
   "metadata": {},
   "source": [
    "验证输出"
   ]
  },
  {
   "cell_type": "code",
   "execution_count": 2,
   "metadata": {},
   "outputs": [
    {
     "data": {
      "text/plain": [
       "tensor([[ 56.,  72.],\n",
       "        [104., 120.]])"
      ]
     },
     "execution_count": 2,
     "metadata": {},
     "output_type": "execute_result"
    }
   ],
   "source": [
    "X = torch.tensor([[[0.0, 1.0, 2.0], [3.0, 4.0, 5.0], [6.0, 7.0, 8.0]],\n",
    "               [[1.0, 2.0, 3.0], [4.0, 5.0, 6.0], [7.0, 8.0, 9.0]]])\n",
    "K = torch.tensor([[[0.0, 1.0], [2.0, 3.0]], [[1.0, 2.0], [3.0, 4.0]]])\n",
    "\n",
    "corr2d_multi_in(X, K)"
   ]
  },
  {
   "attachments": {},
   "cell_type": "markdown",
   "metadata": {},
   "source": [
    "计算多通道输出的互相关函数"
   ]
  },
  {
   "cell_type": "code",
   "execution_count": 3,
   "metadata": {},
   "outputs": [
    {
     "data": {
      "text/plain": [
       "torch.Size([3, 2, 2, 2])"
      ]
     },
     "execution_count": 3,
     "metadata": {},
     "output_type": "execute_result"
    }
   ],
   "source": [
    "def corr2d_multi_in_out(X, K):\n",
    "    # 迭代“K”的第0个维度，每次都对输入“X”执行互相关运算。\n",
    "    # 最后将所有结果都叠加在一起\n",
    "    return torch.stack([corr2d_multi_in(X, k) for k in K], 0)\n",
    "\n",
    "K = torch.stack((K, K + 1, K + 2), 0)\n",
    "K.shape"
   ]
  },
  {
   "cell_type": "code",
   "execution_count": 4,
   "metadata": {},
   "outputs": [
    {
     "data": {
      "text/plain": [
       "tensor([[[ 56.,  72.],\n",
       "         [104., 120.]],\n",
       "\n",
       "        [[ 76., 100.],\n",
       "         [148., 172.]],\n",
       "\n",
       "        [[ 96., 128.],\n",
       "         [192., 224.]]])"
      ]
     },
     "execution_count": 4,
     "metadata": {},
     "output_type": "execute_result"
    }
   ],
   "source": [
    "corr2d_multi_in_out(X, K)"
   ]
  },
  {
   "attachments": {},
   "cell_type": "markdown",
   "metadata": {},
   "source": [
    "$1\\times 1$卷积"
   ]
  },
  {
   "cell_type": "code",
   "execution_count": 5,
   "metadata": {},
   "outputs": [],
   "source": [
    "def corr2d_multi_in_out_1x1(X, K):\n",
    "    c_i, h, w = X.shape\n",
    "    c_o = K.shape[0]\n",
    "    X = X.reshape((c_i, h * w))\n",
    "    K = K.reshape((c_o, c_i))\n",
    "    # 全连接层中的矩阵乘法\n",
    "    Y = torch.matmul(K, X)\n",
    "    return Y.reshape((c_o, h, w))\n",
    "\n",
    "X = torch.normal(0, 1, (3, 3, 3))\n",
    "K = torch.normal(0, 1, (2, 3, 1, 1))\n",
    "\n",
    "Y1 = corr2d_multi_in_out_1x1(X, K)\n",
    "Y2 = corr2d_multi_in_out(X, K)\n",
    "assert float(torch.abs(Y1 - Y2).sum()) < 1e-6"
   ]
  }
 ],
 "metadata": {
  "kernelspec": {
   "display_name": "torch",
   "language": "python",
   "name": "python3"
  },
  "language_info": {
   "codemirror_mode": {
    "name": "ipython",
    "version": 3
   },
   "file_extension": ".py",
   "mimetype": "text/x-python",
   "name": "python",
   "nbconvert_exporter": "python",
   "pygments_lexer": "ipython3",
   "version": "3.7.0 (default, Jun 28 2018, 08:04:48) [MSC v.1912 64 bit (AMD64)]"
  },
  "orig_nbformat": 4,
  "vscode": {
   "interpreter": {
    "hash": "bfe6d3f1965e0851ced6ef17603d711146f9008773bc29cbeb0f6fa859e66f8f"
   }
  }
 },
 "nbformat": 4,
 "nbformat_minor": 2
}
