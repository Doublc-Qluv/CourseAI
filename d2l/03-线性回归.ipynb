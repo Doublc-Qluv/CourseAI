{
 "cells": [
  {
   "attachments": {},
   "cell_type": "markdown",
   "metadata": {},
   "source": [
    "# 线性回归_房价预测任务\n",
    "## 一个简化模型\n",
    "\n",
    "- 假设一： 影响房价的关键因素是卧室的个数、卫生间的格式和居住面积\n",
    "- 假设二： 成交价是关键因素的加权和\n",
    "\n",
    "$$\n",
    "y=w_1 x_1 + w_2 x_2 + w_3 x_3 + b\n",
    "$$ \n",
    "权重和偏差的实际值在后面决定\n",
    "\n"
   ]
  },
  {
   "attachments": {},
   "cell_type": "markdown",
   "metadata": {},
   "source": [
    "## 线性模型\n",
    "\n",
    "- 给定n维输入 $x=[x_1 , x_2 , ... , x_n]^T$\n",
    "- 线性模型有一个n维权重和一个标量偏差$$w=[w_1 , w_2 ,...,w_n]^T, b$$\n",
    "- 输出是输入的加权和$$y=w_1 x_1 + w_2 x_2+...+w_n x_n + b$$\n",
    "- 向量版本$$y = <w,x> + b$$\n",
    "- 线性模型可以看作是一个单层神经网络\n",
    "\n"
   ]
  },
  {
   "attachments": {},
   "cell_type": "markdown",
   "metadata": {},
   "source": [
    "## 衡量预估质量\n",
    "- 比较真实值和预估值，例如房屋售价和估价\n",
    "- 假设$y$是真实值，$\\hat{y}$是估计值，我们可以比较 $$l(y,\\hat{y})=\\frac{1}{2}(y-\\hat{y})^2$$ 这个叫做平方损失\n",
    "\n"
   ]
  },
  {
   "attachments": {},
   "cell_type": "markdown",
   "metadata": {},
   "source": [
    "## 训练数据\n",
    "- 收集一些数据点来决定参数值(权重和偏差)，例如过去六个月卖的房子\n",
    "- 这些被称之为训练数据\n",
    "- 通常越多越好\n",
    "- 假设我们有n个样本，记 $$X=[x_1 , x_2 , ... , x_n]^T 和 y=[y_1 , y_2 ,..., y_n]^T$$\n",
    "\n"
   ]
  },
  {
   "attachments": {},
   "cell_type": "markdown",
   "metadata": {},
   "source": [
    "## 参数学习\n",
    "\n",
    "- 训练损失 $$l(X,y,w,b)=\\frac{1}{2n} \\sum^{n}_{2n}{(y_i <x_i ,w>-b)^2} = \\frac{1}{2n}||y-Xw-b||^2$$\n",
    "- 最小化损失来学习参数 $$w^* ,b^* = \\arg{\\min_{W,b}{l(X,y,w,b)}}$$"
   ]
  },
  {
   "attachments": {},
   "cell_type": "markdown",
   "metadata": {},
   "source": [
    "## 显示解\n",
    "\n",
    "- 偏差加入权重 $X \\leftarrow[X,1]和w\\leftarrow [w,b]^T$ $$l(X,y,w)=\\frac{1}{2n} ||y-Xw||^2 ,偏导：\\frac{\\partial}{\\partial w}l(X,y,w)=\\frac{1}{n}(y-Xw)^T X$$\n",
    "- 损失函数是凸函数，所以最优解满足：$$\\frac{\\partial}{\\partial w}l(X,y,w)=0 \\\\ \\Leftrightarrow \\frac{1}{n}(y-Xw)^T X=0 \\\\ \\Leftrightarrow w^*=(X^T X )^{-1}Xy$$"
   ]
  },
  {
   "attachments": {},
   "cell_type": "markdown",
   "metadata": {},
   "source": [
    "## 总结\n",
    "- 线性回归是对n维输入的加权，外加偏差\n",
    "- 使用平方损失来衡量与测试值和真实值地方差异\n",
    "- 线性回归有显示解\n",
    "- 线性回归可以看作是单层神经网络"
   ]
  },
  {
   "cell_type": "markdown",
   "metadata": {},
   "source": []
  }
 ],
 "metadata": {
  "kernelspec": {
   "display_name": "ai9",
   "language": "python",
   "name": "python3"
  },
  "language_info": {
   "name": "python",
   "version": "3.9.15 (main, Nov 24 2022, 14:39:17) [MSC v.1916 64 bit (AMD64)]"
  },
  "orig_nbformat": 4,
  "vscode": {
   "interpreter": {
    "hash": "1f34363178d6424da0a1105aa7e222eecda70f8a7310233b4fbac13475057886"
   }
  }
 },
 "nbformat": 4,
 "nbformat_minor": 2
}
