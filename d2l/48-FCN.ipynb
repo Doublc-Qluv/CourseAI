{
 "cells": [
  {
   "attachments": {},
   "cell_type": "markdown",
   "metadata": {},
   "source": [
    "# 全连接卷积神经网络（FCN）\n",
    "Fully Convolutional Network，FCN\n",
    "\n",
    "- 语义分割是对图像中的每个像素进行分类，输出的类别预测与输入图像在像素级别上具有一一对应关系：通道维的输出即为该位置对应像素的类别预测\n",
    "- FCN 采用卷积神经网络实现了从图像像素到像素类别的变换，区别于图像分类和目标检测中的卷积神经网络，全连接卷积神经网络通过引入转置卷积将中间层特征图的高和宽变换回输入图像的尺寸\n",
    "\n",
    "## 工作原理\n",
    "它用转置卷积层来替换 CNN 最后的全连接层，从而可以实现每个像素的预测\n",
    "\n",
    "1. CNN 可以认为是在 ImageNet 上面预训练好的模型\n",
    "\n",
    "- 全连接卷积神经网络先使用卷积神经网络抽取图像特征\n",
    "- CNN 模型的最后两层要么就是全连接层，这样可以做到 label 的语义信息，全连接层下面通常是一个全局平均池化层：全连接层将 $224*224$ 的图片变成 $7*7$ 的高宽，全局平均池化层再将 $7*7$ 变成 $1*1$ ，不管怎么样将通道中的信息做平均\n",
    "- 这对于图片分类来说没有什么问题，但是对于需要空间信息来说就不是那么好了，所以全连接卷积神经网络的 CNN 其实就是去掉了全连接层和最后的全局平均池化层，所以如果输入是 $224*224$ 的图片的话，输出就是 $7*7$ 的高宽，通道数可能是 $512*512$ \n",
    "2. 1*1 的卷积层\n",
    "- 通过 1*1 卷积层将通道数变换为类别个数\n",
    "- 不会对空间信息做变化，主要是用来降低维度（降低通道数），从而降低计算量\n",
    "3. transposed conv（转置卷积层）\n",
    "- 转置卷积层就是将图片放大，将特征图的高和宽变换为输入图像的尺寸，从而使模型输出与输入图像的高和宽相同，并且最终输出通道包含了该空间位置像素的类别预测\n",
    "- 假设 CNN 是将图片缩小的话，一般来说，对于 ImageNet 的 $224*224$ 的图片来说是缩小 32 倍（高宽均缩小 32 倍），得到 $7*7$ 的高宽\n",
    "转置卷积层就是将图片扩大 32 倍，将 $7*7$ 的高宽还原称为 $224*224$ ，通道数 K 等价于类别数（对每个像素的类别预测存储在通道信息中），这样的话，不管对于高宽为多少的图片，都会得到通道数为类别数且高宽相同（与输入图片的原始尺寸相同）的预测，这样就能实现对每个像素做标号和预测\n",
    "- 在图像处理中，有时需要将图片放大（上采样，upsampling），双线性插值（bilinear interpolation）是常用的上采样方法之一，也常用于初始化转置卷积层（双线性插值的上采样可以通过转置卷积层实现）\n",
    "\n",
    "## 训练\n",
    "- 在训练时，因为使用转置卷积层的通道来预测像素的类别，所以需要在损失计算中指定通道维，模型基于每个像素的预测类别是否正确来计算准确率\n",
    "## 预测\n",
    "- 假设模型所使用的转置卷积层的步幅为 x ，为了解决输入图像的高或宽无法被 x 所整除时所造成的转置卷积层输出高或宽与输入图像尺寸的偏差问题，可以在输入图像中截取多块高和宽为 x 的整数倍的矩形区域（这些区域的并集需要完整覆盖输入图像），并分别对这些区域中的像素做前向传播（当一个像素被多个区域所覆盖时，它在不同区域前向传播中转置卷积层输出的平均值可以作为 softmax 运算的输入，从而预测类别）\n",
    "## 总结\n",
    "\n",
    "1. 全卷积网络首先使用卷积神经网络抽取图像特征，然后通过 1*1 卷积层将通道数变换为类别个数，最后通过转置卷积层将特征图的高和宽变换为输入图像的尺寸\n",
    "2. 在全卷积网络中，可以将转置卷积层初始化为双线性插值的上采样"
   ]
  },
  {
   "attachments": {},
   "cell_type": "markdown",
   "metadata": {},
   "source": [
    "# 代码"
   ]
  },
  {
   "cell_type": "code",
   "execution_count": 1,
   "metadata": {},
   "outputs": [],
   "source": [
    "%matplotlib inline\n",
    "import torch\n",
    "import torchvision\n",
    "from torch import nn\n",
    "from torch.nn import functional as F\n",
    "import d2l_source as d2l"
   ]
  },
  {
   "attachments": {},
   "cell_type": "markdown",
   "metadata": {},
   "source": [
    "使用ResNet-18预训练模型"
   ]
  },
  {
   "cell_type": "code",
   "execution_count": null,
   "metadata": {},
   "outputs": [],
   "source": [
    "pretrained_net = torchvision.models.resnet18(pretrained=True)\n",
    "list(pretrained_net.children())[-3:]"
   ]
  },
  {
   "attachments": {},
   "cell_type": "markdown",
   "metadata": {},
   "source": [
    "创建一个全卷积网络\n",
    "\n",
    "复制了ResNet-18中大部分的预训练层，除了最后的全局平均汇聚层和最接近输出的全连接层"
   ]
  },
  {
   "cell_type": "code",
   "execution_count": null,
   "metadata": {},
   "outputs": [],
   "source": [
    "net = nn.Sequential(*list(pretrained_net.children())[:-2])"
   ]
  },
  {
   "cell_type": "code",
   "execution_count": null,
   "metadata": {},
   "outputs": [],
   "source": [
    "X = torch.rand(size=(1, 3, 320, 480))\n",
    "net(X).shape"
   ]
  },
  {
   "attachments": {},
   "cell_type": "markdown",
   "metadata": {},
   "source": [
    "拟合数据集\n",
    "1. 使用$1\\times1$卷积层将输出通道数转换为Pascal VOC2012数据集的类数（21类）\n",
    "2. 将特征图的高度和宽度增加32倍"
   ]
  },
  {
   "cell_type": "code",
   "execution_count": null,
   "metadata": {},
   "outputs": [],
   "source": [
    "num_classes = 21\n",
    "net.add_module('final_conv', nn.Conv2d(512, num_classes, kernel_size=1))\n",
    "net.add_module('transpose_conv', nn.ConvTranspose2d(num_classes, num_classes,\n",
    "                                    kernel_size=64, padding=16, stride=32))"
   ]
  },
  {
   "attachments": {},
   "cell_type": "markdown",
   "metadata": {},
   "source": [
    "初始化转置卷积层"
   ]
  },
  {
   "cell_type": "code",
   "execution_count": 3,
   "metadata": {},
   "outputs": [],
   "source": [
    "def bilinear_kernel(in_channels, out_channels, kernel_size):\n",
    "    factor = (kernel_size + 1) // 2\n",
    "    if kernel_size % 2 == 1:\n",
    "        center = factor - 1\n",
    "    else:\n",
    "        center = factor - 0.5\n",
    "    og = (torch.arange(kernel_size).reshape(-1, 1),\n",
    "          torch.arange(kernel_size).reshape(1, -1))\n",
    "    filt = (1 - torch.abs(og[0] - center) / factor) * \\\n",
    "           (1 - torch.abs(og[1] - center) / factor)\n",
    "    weight = torch.zeros((in_channels, out_channels,\n",
    "                          kernel_size, kernel_size))\n",
    "    weight[range(in_channels), range(out_channels), :, :] = filt\n",
    "    return weight"
   ]
  },
  {
   "attachments": {},
   "cell_type": "markdown",
   "metadata": {},
   "source": [
    "双线性插值上采样实验"
   ]
  },
  {
   "cell_type": "code",
   "execution_count": null,
   "metadata": {},
   "outputs": [],
   "source": [
    "conv_trans = nn.ConvTranspose2d(3, 3, kernel_size=4, padding=1, stride=2,\n",
    "                                bias=False)\n",
    "conv_trans.weight.data.copy_(bilinear_kernel(3, 3, 4))"
   ]
  },
  {
   "attachments": {},
   "cell_type": "markdown",
   "metadata": {},
   "source": [
    "举例读取图像"
   ]
  },
  {
   "cell_type": "code",
   "execution_count": null,
   "metadata": {},
   "outputs": [],
   "source": [
    "img = torchvision.transforms.ToTensor()(d2l.Image.open('../img/catdog.jpg'))\n",
    "X = img.unsqueeze(0)\n",
    "Y = conv_trans(X)\n",
    "out_img = Y[0].permute(1, 2, 0).detach()"
   ]
  },
  {
   "cell_type": "code",
   "execution_count": null,
   "metadata": {},
   "outputs": [],
   "source": [
    "d2l.set_figsize()\n",
    "print('input image shape:', img.permute(1, 2, 0).shape)\n",
    "d2l.plt.imshow(img.permute(1, 2, 0));\n",
    "print('output image shape:', out_img.shape)\n",
    "d2l.plt.imshow(out_img);"
   ]
  },
  {
   "cell_type": "code",
   "execution_count": null,
   "metadata": {},
   "outputs": [],
   "source": [
    "W = bilinear_kernel(num_classes, num_classes, 64)\n",
    "net.transpose_conv.weight.data.copy_(W)"
   ]
  },
  {
   "attachments": {},
   "cell_type": "markdown",
   "metadata": {},
   "source": [
    "读取数据集"
   ]
  },
  {
   "cell_type": "code",
   "execution_count": null,
   "metadata": {},
   "outputs": [],
   "source": [
    "batch_size, crop_size = 32, (320, 480)\n",
    "train_iter, test_iter = d2l.load_data_voc(batch_size, crop_size)"
   ]
  },
  {
   "attachments": {},
   "cell_type": "markdown",
   "metadata": {},
   "source": [
    "训练"
   ]
  },
  {
   "cell_type": "code",
   "execution_count": null,
   "metadata": {},
   "outputs": [],
   "source": [
    "def loss(inputs, targets):\n",
    "    return F.cross_entropy(inputs, targets, reduction='none').mean(1).mean(1)\n",
    "\n",
    "num_epochs, lr, wd, devices = 5, 0.001, 1e-3, d2l.try_all_gpus()\n",
    "trainer = torch.optim.SGD(net.parameters(), lr=lr, weight_decay=wd)\n",
    "d2l.train_ch13(net, train_iter, test_iter, loss, trainer, num_epochs, devices)"
   ]
  },
  {
   "attachments": {},
   "cell_type": "markdown",
   "metadata": {},
   "source": [
    "预测"
   ]
  },
  {
   "cell_type": "code",
   "execution_count": null,
   "metadata": {},
   "outputs": [],
   "source": [
    "def predict(img):\n",
    "    X = test_iter.dataset.normalize_image(img).unsqueeze(0)\n",
    "    pred = net(X.to(devices[0])).argmax(dim=1)\n",
    "    return pred.reshape(pred.shape[1], pred.shape[2])"
   ]
  },
  {
   "attachments": {},
   "cell_type": "markdown",
   "metadata": {},
   "source": [
    "可视化预测"
   ]
  },
  {
   "cell_type": "code",
   "execution_count": null,
   "metadata": {},
   "outputs": [],
   "source": [
    "def label2image(pred):\n",
    "    colormap = torch.tensor(d2l.VOC_COLORMAP, device=devices[0])\n",
    "    X = pred.long()\n",
    "    return colormap[X, :]"
   ]
  },
  {
   "cell_type": "code",
   "execution_count": null,
   "metadata": {},
   "outputs": [],
   "source": [
    "voc_dir = d2l.download_extract('voc2012', 'VOCdevkit/VOC2012')\n",
    "test_images, test_labels = d2l.read_voc_images(voc_dir, False)\n",
    "n, imgs = 4, []\n",
    "for i in range(n):\n",
    "    crop_rect = (0, 0, 320, 480)\n",
    "    X = torchvision.transforms.functional.crop(test_images[i], *crop_rect)\n",
    "    pred = label2image(predict(X))\n",
    "    imgs += [X.permute(1,2,0), pred.cpu(),\n",
    "             torchvision.transforms.functional.crop(\n",
    "                 test_labels[i], *crop_rect).permute(1,2,0)]\n",
    "d2l.show_images(imgs[::3] + imgs[1::3] + imgs[2::3], 3, n, scale=2);"
   ]
  }
 ],
 "metadata": {
  "kernelspec": {
   "display_name": "torch",
   "language": "python",
   "name": "python3"
  },
  "language_info": {
   "codemirror_mode": {
    "name": "ipython",
    "version": 3
   },
   "file_extension": ".py",
   "mimetype": "text/x-python",
   "name": "python",
   "nbconvert_exporter": "python",
   "pygments_lexer": "ipython3",
   "version": "3.10.9 (main, Jan 11 2023, 15:21:40) [GCC 11.2.0]"
  },
  "orig_nbformat": 4,
  "vscode": {
   "interpreter": {
    "hash": "c44678fd19ad019ded79369569e5d8df0528d61f5c93a61b5bcbc1a4ac615169"
   }
  }
 },
 "nbformat": 4,
 "nbformat_minor": 2
}
