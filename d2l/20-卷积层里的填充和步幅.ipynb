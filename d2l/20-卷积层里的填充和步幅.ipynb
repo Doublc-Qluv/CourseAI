{
 "cells": [
  {
   "attachments": {},
   "cell_type": "markdown",
   "metadata": {},
   "source": [
    "# 填充和步幅\n",
    "\n",
    "## 填充\n",
    "\n",
    "- 给定$(32\\times32)$输入图像\n",
    "- 应用$5\\times5$大小的卷积核\n",
    "  - 第一层得到输出大小$28\\times28$\n",
    "  - 第七层得到输出大小$4\\times4$\n",
    "- 更大的卷积核可以更快地减小输出大小\n",
    "  - 形状从$n_h \\times n_w$减少到$(n_h -k_h +1)\\times(n_w -k_w +1)$\n",
    "\n",
    "- 填充：在输入的四周加入额外的行/列，以达到更大的输入\n",
    "- 填充$p_h$行和$p_w$列,输出的形状为$$(n_h -k_h +p_h +1)\\times(n_w -k_w +p_w +1)$$\n",
    "- 通常取：$p_h = k_h -1,\\quad p_w = k_w -1$\n",
    "  - 当$k_h$为奇数：上下两侧填充$p_h /2$\n",
    "  - 当$k_h$为偶数：在上侧填充$\\lceil p_h /2\\rceil$，在下侧填充$\\lfloor p_h /2\\rfloor$\n",
    "\n",
    "## 步幅\n",
    "- 填充减小的输出大小与层数线性相关\n",
    "  - 给定输入大小$224\\times 224$，在使用$5\\times5$卷积核的情况下，需要55层将输出降低到$4\\times4$\n",
    "  - 需要大量的计算测i能得到较小输出\n",
    "- 步幅是指行/列的滑动步长\n",
    "- 给定高度$s_h$和宽度$s_w$的步幅，输出形状是$$\\lfloor (n_h -k_h +p_h +s_h)/s_h \\rfloor\\times\\lfloor(n_w -k_w +p_w +s_w)\\rfloor $$\n",
    "- 如果$p_h =k_h -1,\\quad p_w =k_w -1$则：$$\\lfloor (n_h  +s_h -1)/s_h \\rfloor\\times\\lfloor(n_w  +s_w -1)\\rfloor $$\n",
    "- 如果输入高度和宽度可以被步幅整除$(n_h /s_h)\\times(n_w /s_w)$\n",
    "\n",
    "## 总结\n",
    "- 填充和步幅都是卷积层的超参数\n",
    "- 填充在输入周围添加额外的行/列，来控制输出形状的减少量\n",
    "- 步幅是每次滑动核窗口时的行/列的步长，可以成倍的减少输出的形状"
   ]
  },
  {
   "attachments": {},
   "cell_type": "markdown",
   "metadata": {},
   "source": [
    "# 代码实现\n",
    "\n",
    "在所有侧边填充一个像素"
   ]
  },
  {
   "cell_type": "code",
   "execution_count": 1,
   "metadata": {},
   "outputs": [
    {
     "data": {
      "text/plain": [
       "torch.Size([8, 8])"
      ]
     },
     "execution_count": 1,
     "metadata": {},
     "output_type": "execute_result"
    }
   ],
   "source": [
    "import torch\n",
    "from torch import nn\n",
    "\n",
    "\n",
    "# 为了方便起见，我们定义了一个计算卷积层的函数。\n",
    "# 此函数初始化卷积层权重，并对输入和输出提高和缩减相应的维数\n",
    "def comp_conv2d(conv2d, X):\n",
    "    # 这里的（1，1）表示批量大小和通道数都是1\n",
    "    X = X.reshape((1, 1) + X.shape)\n",
    "    Y = conv2d(X)\n",
    "    # 省略前两个维度：批量大小和通道\n",
    "    return Y.reshape(Y.shape[2:])\n",
    "\n",
    "# 请注意，这里每边都填充了1行或1列，因此总共添加了2行或2列\n",
    "conv2d = nn.Conv2d(1, 1, kernel_size=3, padding=1)\n",
    "X = torch.rand(size=(8, 8))\n",
    "comp_conv2d(conv2d, X).shape"
   ]
  },
  {
   "attachments": {},
   "cell_type": "markdown",
   "metadata": {},
   "source": [
    "填充不同的高度和宽度"
   ]
  },
  {
   "cell_type": "code",
   "execution_count": 2,
   "metadata": {},
   "outputs": [
    {
     "data": {
      "text/plain": [
       "torch.Size([8, 8])"
      ]
     },
     "execution_count": 2,
     "metadata": {},
     "output_type": "execute_result"
    }
   ],
   "source": [
    "conv2d = nn.Conv2d(1, 1, kernel_size=(5, 3), padding=(2, 1))\n",
    "comp_conv2d(conv2d, X).shape"
   ]
  },
  {
   "attachments": {},
   "cell_type": "markdown",
   "metadata": {},
   "source": [
    "将高度和宽度的步幅设置为2"
   ]
  },
  {
   "cell_type": "code",
   "execution_count": 3,
   "metadata": {},
   "outputs": [
    {
     "data": {
      "text/plain": [
       "torch.Size([4, 4])"
      ]
     },
     "execution_count": 3,
     "metadata": {},
     "output_type": "execute_result"
    }
   ],
   "source": [
    "conv2d = nn.Conv2d(1, 1, kernel_size=3, padding=1, stride=2)\n",
    "comp_conv2d(conv2d, X).shape"
   ]
  },
  {
   "attachments": {},
   "cell_type": "markdown",
   "metadata": {},
   "source": [
    "稍微复杂的例子"
   ]
  },
  {
   "cell_type": "code",
   "execution_count": 4,
   "metadata": {},
   "outputs": [
    {
     "data": {
      "text/plain": [
       "torch.Size([2, 2])"
      ]
     },
     "execution_count": 4,
     "metadata": {},
     "output_type": "execute_result"
    }
   ],
   "source": [
    "conv2d = nn.Conv2d(1, 1, kernel_size=(3, 5), padding=(0, 1), stride=(3, 4))\n",
    "comp_conv2d(conv2d, X).shape"
   ]
  }
 ],
 "metadata": {
  "kernelspec": {
   "display_name": "torch",
   "language": "python",
   "name": "python3"
  },
  "language_info": {
   "codemirror_mode": {
    "name": "ipython",
    "version": 3
   },
   "file_extension": ".py",
   "mimetype": "text/x-python",
   "name": "python",
   "nbconvert_exporter": "python",
   "pygments_lexer": "ipython3",
   "version": "3.7.0 (default, Jun 28 2018, 08:04:48) [MSC v.1912 64 bit (AMD64)]"
  },
  "orig_nbformat": 4,
  "vscode": {
   "interpreter": {
    "hash": "bfe6d3f1965e0851ced6ef17603d711146f9008773bc29cbeb0f6fa859e66f8f"
   }
  }
 },
 "nbformat": 4,
 "nbformat_minor": 2
}
