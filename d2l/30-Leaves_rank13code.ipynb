{
 "cells": [
  {
   "attachments": {},
   "cell_type": "markdown",
   "id": "9f73000f",
   "metadata": {},
   "source": [
    "KXLYHIT\n",
    "\n",
    "[https://www.kaggle.com/code/kxlyhit/13th-code-and-summary](https://www.kaggle.com/code/kxlyhit/13th-code-and-summary)"
   ]
  },
  {
   "cell_type": "markdown",
   "id": "another-trading",
   "metadata": {
    "papermill": {
     "duration": 0.017173,
     "end_time": "2021-06-28T07:16:09.783878",
     "exception": false,
     "start_time": "2021-06-28T07:16:09.766705",
     "status": "completed"
    },
    "tags": []
   },
   "source": [
    "Private Leaderboard 13th\n",
    "\n",
    "作为一个零基础跟李沐老师学过来的初学者，首先感谢沐神提供了一个方便像我这样初学者入门的优质教程\n",
    "\n",
    "其次重点感谢Neko Kiku同学提供的baseline，以及讨论区的各位同学提供的技巧。\n",
    "\n",
    "注：由于我是在线上训练好多个模型保存到本地共同做的预测，直接放在一起运行好像会因为连续运行时间超过10小时而自动取消运算，所以这里我注释掉了训练模型的函数，直接加载已经训练好的模型进行预测。"
   ]
  },
  {
   "cell_type": "code",
   "execution_count": null,
   "id": "electronic-surgeon",
   "metadata": {
    "execution": {
     "iopub.execute_input": "2021-06-28T07:16:09.821998Z",
     "iopub.status.busy": "2021-06-28T07:16:09.820505Z",
     "iopub.status.idle": "2021-06-28T07:16:17.402806Z",
     "shell.execute_reply": "2021-06-28T07:16:17.403354Z",
     "shell.execute_reply.started": "2021-06-28T07:12:19.421656Z"
    },
    "papermill": {
     "duration": 7.60345,
     "end_time": "2021-06-28T07:16:17.403667",
     "exception": false,
     "start_time": "2021-06-28T07:16:09.800217",
     "status": "completed"
    },
    "tags": []
   },
   "outputs": [],
   "source": [
    "%pip install ttach #Test Time Augmentation"
   ]
  },
  {
   "cell_type": "code",
   "execution_count": null,
   "id": "dense-slave",
   "metadata": {
    "execution": {
     "iopub.execute_input": "2021-06-28T07:16:17.446775Z",
     "iopub.status.busy": "2021-06-28T07:16:17.445966Z",
     "iopub.status.idle": "2021-06-28T07:16:18.737062Z",
     "shell.execute_reply": "2021-06-28T07:16:18.736588Z",
     "shell.execute_reply.started": "2021-06-28T07:12:25.078796Z"
    },
    "papermill": {
     "duration": 1.314637,
     "end_time": "2021-06-28T07:16:18.737192",
     "exception": false,
     "start_time": "2021-06-28T07:16:17.422555",
     "status": "completed"
    },
    "tags": []
   },
   "outputs": [],
   "source": [
    "# 首先导入包\n",
    "import torch\n",
    "import torch.nn as nn\n",
    "import pandas as pd\n",
    "import numpy as np\n",
    "from torch.utils.data import Dataset, DataLoader\n",
    "from torchvision import transforms\n",
    "from PIL import Image\n",
    "import ttach as tta\n",
    "import os\n",
    "import matplotlib.pyplot as plt\n",
    "import torchvision.models as models\n",
    "# This is for the progress bar.\n",
    "from tqdm import tqdm"
   ]
  },
  {
   "cell_type": "code",
   "execution_count": null,
   "id": "8de6a3e9",
   "metadata": {},
   "outputs": [],
   "source": []
  },
  {
   "cell_type": "code",
   "execution_count": null,
   "id": "bridal-trunk",
   "metadata": {
    "execution": {
     "iopub.execute_input": "2021-06-28T07:16:18.778781Z",
     "iopub.status.busy": "2021-06-28T07:16:18.778173Z",
     "iopub.status.idle": "2021-06-28T07:16:18.823753Z",
     "shell.execute_reply": "2021-06-28T07:16:18.823339Z",
     "shell.execute_reply.started": "2021-06-28T07:12:25.086979Z"
    },
    "papermill": {
     "duration": 0.068781,
     "end_time": "2021-06-28T07:16:18.823862",
     "exception": false,
     "start_time": "2021-06-28T07:16:18.755081",
     "status": "completed"
    },
    "tags": []
   },
   "outputs": [],
   "source": [
    "# 看看label文件长啥样\n",
    "labels_dataframe = pd.read_csv('../data/classify-leaves/train.csv')\n",
    "labels_dataframe.head(3)"
   ]
  },
  {
   "cell_type": "code",
   "execution_count": null,
   "id": "first-roberts",
   "metadata": {
    "execution": {
     "iopub.execute_input": "2021-06-28T07:16:18.867770Z",
     "iopub.status.busy": "2021-06-28T07:16:18.867073Z",
     "iopub.status.idle": "2021-06-28T07:16:18.870165Z",
     "shell.execute_reply": "2021-06-28T07:16:18.870707Z",
     "shell.execute_reply.started": "2021-06-28T07:12:27.374584Z"
    },
    "papermill": {
     "duration": 0.029148,
     "end_time": "2021-06-28T07:16:18.870874",
     "exception": false,
     "start_time": "2021-06-28T07:16:18.841726",
     "status": "completed"
    },
    "tags": []
   },
   "outputs": [],
   "source": [
    "# 提取出lable并统计类别个数 排序\n",
    "leaves_labels = sorted(list(set(labels_dataframe['label']))) #set删掉重复的 sort排序\n",
    "n_classes = len(leaves_labels) #类别长度\n",
    "print(n_classes) "
   ]
  },
  {
   "cell_type": "code",
   "execution_count": null,
   "id": "convertible-romance",
   "metadata": {
    "execution": {
     "iopub.execute_input": "2021-06-28T07:16:18.912304Z",
     "iopub.status.busy": "2021-06-28T07:16:18.911632Z",
     "iopub.status.idle": "2021-06-28T07:16:18.914428Z",
     "shell.execute_reply": "2021-06-28T07:16:18.914014Z",
     "shell.execute_reply.started": "2021-06-28T07:12:28.561971Z"
    },
    "papermill": {
     "duration": 0.024744,
     "end_time": "2021-06-28T07:16:18.914550",
     "exception": false,
     "start_time": "2021-06-28T07:16:18.889806",
     "status": "completed"
    },
    "tags": []
   },
   "outputs": [],
   "source": [
    "# 把label转成对应的数字\n",
    "class_to_num = dict(zip(leaves_labels, range(n_classes)))\n",
    "# 再转换回来，方便最后预测的时候使用\n",
    "num_to_class = {v : k for k, v in class_to_num.items()}"
   ]
  },
  {
   "cell_type": "code",
   "execution_count": null,
   "id": "informational-breast",
   "metadata": {
    "execution": {
     "iopub.execute_input": "2021-06-28T07:16:18.966314Z",
     "iopub.status.busy": "2021-06-28T07:16:18.965507Z",
     "iopub.status.idle": "2021-06-28T07:16:18.967731Z",
     "shell.execute_reply": "2021-06-28T07:16:18.968132Z",
     "shell.execute_reply.started": "2021-06-28T07:12:30.017354Z"
    },
    "papermill": {
     "duration": 0.035497,
     "end_time": "2021-06-28T07:16:18.968245",
     "exception": false,
     "start_time": "2021-06-28T07:16:18.932748",
     "status": "completed"
    },
    "tags": []
   },
   "outputs": [],
   "source": [
    "# 继承pytorch的dataset，创建自己的Data\n",
    "class LeavesData(Dataset):\n",
    "    def __init__(self, csv_path, file_path, mode='train', valid_ratio=0.2, resize_height=256, resize_width=256):\n",
    "        \"\"\"\n",
    "        Args:\n",
    "            csv_path (string): csv 文件路径\n",
    "            img_path (string): 图像文件所在路径\n",
    "            mode (string): 训练模式还是测试模式\n",
    "            valid_ratio (float): 验证集比例\n",
    "        \"\"\"\n",
    "        \n",
    "        # 需要调整后的照片尺寸，我这里每张图片的大小尺寸不一致#\n",
    "        self.resize_height = resize_height\n",
    "        self.resize_width = resize_width\n",
    "\n",
    "        self.file_path = file_path\n",
    "        self.mode = mode\n",
    "\n",
    "        # 读取 csv 文件\n",
    "        # 利用pandas读取csv文件\n",
    "        self.data_info = pd.read_csv(csv_path, header=None)  #header=None是去掉表头部分\n",
    "        # 计算 length                                        #但是会把表头放进列表\n",
    "        self.data_len = len(self.data_info.index) - 1       #所以需要-1\n",
    "        self.train_len = int(self.data_len * (1 - valid_ratio))\n",
    "        \n",
    "        if mode == 'train':\n",
    "            # 第一列包含图像文件的名称   例如images/0.jpg\n",
    "            self.train_image = np.asarray(self.data_info.iloc[1:self.train_len, 0])  #self.data_info.iloc[1:,0]表示读取第一列，从第二行开始到train_len\n",
    "            # 第二列是图像的 label       例如maclura_pomifera  （叶子种类）\n",
    "            self.train_label = np.asarray(self.data_info.iloc[1:self.train_len, 1])\n",
    "            self.image_arr = self.train_image \n",
    "            self.label_arr = self.train_label\n",
    "        elif mode == 'valid':  #验证集可以防止过拟合 观察拟合结果\n",
    "            self.valid_image = np.asarray(self.data_info.iloc[self.train_len:, 0])  \n",
    "            self.valid_label = np.asarray(self.data_info.iloc[self.train_len:, 1])\n",
    "            self.image_arr = self.valid_image\n",
    "            self.label_arr = self.valid_label\n",
    "        elif mode == 'test':\n",
    "            self.test_image = np.asarray(self.data_info.iloc[1:, 0])\n",
    "            self.image_arr = self.test_image\n",
    "            \n",
    "        self.real_len = len(self.image_arr)\n",
    "\n",
    "        print('Finished reading the {} set of Leaves Dataset ({} samples found)'\n",
    "              .format(mode, self.real_len))\n",
    "\n",
    "    def __getitem__(self, index):\n",
    "        # 从 image_arr中得到索引对应的文件名\n",
    "        single_image_name = self.image_arr[index]  #self.image_arr[0]='images/0.jpg'\n",
    "\n",
    "        # 读取图像文件\n",
    "        img_as_img = Image.open(self.file_path + single_image_name)\n",
    "\n",
    "        #如果需要将RGB三通道的图片转换成灰度图片可参考下面两行\n",
    "#         if img_as_img.mode != 'L':\n",
    "#             img_as_img = img_as_img.convert('L')\n",
    "\n",
    "        #设置好需要转换的变量，还可以包括一系列的nomarlize等等操作\n",
    "        if self.mode == 'train':                           #下面是图像增广\n",
    "            transform = transforms.Compose([\n",
    "                #transforms.Resize(300),\n",
    "                #transforms.CenterCrop(224),\n",
    "                transforms.Resize(224),\n",
    "                transforms.RandomHorizontalFlip(p=0.5),   #随机水平翻转\n",
    "                transforms.RandomVerticalFlip(p=0.5),     #除了水平竖直反转之外其他的处理方法貌似都会降低acc\n",
    "                #transforms.RandomResizedCrop((224, 224), scale=(0.7, 1)),\n",
    "                #transforms.RandomCrop((60, 120)), # 随机剪裁\n",
    "                # transforms.ColorJitter(0.3, 0.3, 0.2), # 修改亮度、对比度和饱和度\n",
    "                #transforms.RandomRotation(180), # 依degrees 随机旋转一定角度   10\n",
    "                transforms.ToTensor(),\n",
    "                transforms.Normalize([0.485, 0.456, 0.406], [0.229, 0.224, 0.225])\n",
    "                # Normalize(mean, std)按通道进行标准化，即先减均值，再除以标准差std\n",
    "                 ])\n",
    "        else:\n",
    "            # valid和test不做数据增强  只需要裁剪变成张量Tensor\n",
    "            transform = transforms.Compose([\n",
    "                transforms.Resize(224),\n",
    "                #transforms.CenterCrop(224),\n",
    "                transforms.ToTensor(),\n",
    "                transforms.Normalize([0.485, 0.456, 0.406], [0.229, 0.224, 0.225])\n",
    "            ])\n",
    "        \n",
    "        img_as_img = transform(img_as_img)  #图像处理\n",
    "        \n",
    "        if self.mode == 'test':\n",
    "            return img_as_img  #测试集只需要返回图像\n",
    "        else: #训练以及测试有效性\n",
    "            # 得到图像的 string label\n",
    "            label = self.label_arr[index]   #例子self.label_arr[0] = maclura_pomifera\n",
    "            # number label\n",
    "            number_label = class_to_num[label] #查阅字典  将类型转换为数字\n",
    "\n",
    "            return img_as_img, number_label  #返回每一个index对应的图片数据和对应的label\n",
    "\n",
    "    def __len__(self):\n",
    "         return self.real_len  #self.real_len = len(self.image_arr) 返回的是训练/验证/测试/图像的数量"
   ]
  },
  {
   "cell_type": "code",
   "execution_count": null,
   "id": "cellular-christianity",
   "metadata": {
    "execution": {
     "iopub.execute_input": "2021-06-28T07:16:19.010330Z",
     "iopub.status.busy": "2021-06-28T07:16:19.009547Z",
     "iopub.status.idle": "2021-06-28T07:16:19.054749Z",
     "shell.execute_reply": "2021-06-28T07:16:19.054260Z",
     "shell.execute_reply.started": "2021-06-28T07:12:33.965910Z"
    },
    "papermill": {
     "duration": 0.068277,
     "end_time": "2021-06-28T07:16:19.054866",
     "exception": false,
     "start_time": "2021-06-28T07:16:18.986589",
     "status": "completed"
    },
    "tags": []
   },
   "outputs": [],
   "source": [
    "#设置文件路径并得到数据集\n",
    "train_path = '../data/classify-leaves/train.csv'\n",
    "test_path = '../data/classify-leaves/test.csv'\n",
    "# csv文件中已经images的路径了，因此这里只到上一级目录\n",
    "img_path = '../data/classify-leaves/'\n",
    "\n",
    "train_dataset = LeavesData(train_path, img_path, mode='train')\n",
    "val_dataset = LeavesData(train_path, img_path, mode='valid')\n",
    "test_dataset = LeavesData(test_path, img_path, mode='test')\n",
    "print(train_dataset)\n",
    "print(val_dataset)\n",
    "print(test_dataset)"
   ]
  },
  {
   "cell_type": "code",
   "execution_count": null,
   "id": "variable-knowing",
   "metadata": {
    "execution": {
     "iopub.execute_input": "2021-06-28T07:16:19.097393Z",
     "iopub.status.busy": "2021-06-28T07:16:19.096711Z",
     "iopub.status.idle": "2021-06-28T07:16:19.099591Z",
     "shell.execute_reply": "2021-06-28T07:16:19.099137Z",
     "shell.execute_reply.started": "2021-06-28T07:12:37.885797Z"
    },
    "papermill": {
     "duration": 0.026275,
     "end_time": "2021-06-28T07:16:19.099695",
     "exception": false,
     "start_time": "2021-06-28T07:16:19.073420",
     "status": "completed"
    },
    "tags": []
   },
   "outputs": [],
   "source": [
    "# 定义data loader\n",
    "train_loader = torch.utils.data.DataLoader(\n",
    "        dataset=train_dataset,\n",
    "        batch_size=90,      \n",
    "        shuffle=True,     #打开乱序  False\n",
    "        num_workers=0\n",
    "    )\n",
    "\n",
    "val_loader = torch.utils.data.DataLoader(\n",
    "        dataset=val_dataset,\n",
    "        batch_size=90,   \n",
    "        shuffle=True,    #打开乱序  False\n",
    "        num_workers=0\n",
    "    )\n",
    "test_loader = torch.utils.data.DataLoader(\n",
    "        dataset=test_dataset,\n",
    "        batch_size=90, \n",
    "        shuffle=False,\n",
    "        num_workers=0\n",
    "    )"
   ]
  },
  {
   "cell_type": "code",
   "execution_count": null,
   "id": "expired-killing",
   "metadata": {
    "execution": {
     "iopub.execute_input": "2021-06-28T07:16:19.179188Z",
     "iopub.status.busy": "2021-06-28T07:16:19.178656Z",
     "iopub.status.idle": "2021-06-28T07:16:19.183233Z",
     "shell.execute_reply": "2021-06-28T07:16:19.183656Z",
     "shell.execute_reply.started": "2021-06-28T07:12:43.434083Z"
    },
    "papermill": {
     "duration": 0.065641,
     "end_time": "2021-06-28T07:16:19.183793",
     "exception": false,
     "start_time": "2021-06-28T07:16:19.118152",
     "status": "completed"
    },
    "tags": []
   },
   "outputs": [],
   "source": [
    "# GPU计算\n",
    "def get_device():\n",
    "    return 'cuda' if torch.cuda.is_available() else 'cpu'\n",
    "\n",
    "device = get_device()\n",
    "print(device)"
   ]
  },
  {
   "cell_type": "code",
   "execution_count": null,
   "id": "particular-laugh",
   "metadata": {
    "execution": {
     "iopub.execute_input": "2021-06-28T07:16:19.224635Z",
     "iopub.status.busy": "2021-06-28T07:16:19.223977Z",
     "iopub.status.idle": "2021-06-28T07:16:19.226734Z",
     "shell.execute_reply": "2021-06-28T07:16:19.226291Z",
     "shell.execute_reply.started": "2021-06-28T07:12:59.030950Z"
    },
    "papermill": {
     "duration": 0.024536,
     "end_time": "2021-06-28T07:16:19.226839",
     "exception": false,
     "start_time": "2021-06-28T07:16:19.202303",
     "status": "completed"
    },
    "tags": []
   },
   "outputs": [],
   "source": [
    "# 超参数\n",
    "learning_rate = 1e-4   #1e-4\n",
    "weight_decay = 1e-3\n",
    "num_epoch = 50\n",
    "beta = 1              #cutmix参数\n",
    "model_path = './pre_res_model.ckpt' #保存中间模型数据，方便加载"
   ]
  },
  {
   "cell_type": "code",
   "execution_count": null,
   "id": "relevant-while",
   "metadata": {
    "execution": {
     "iopub.execute_input": "2021-06-28T07:16:19.269830Z",
     "iopub.status.busy": "2021-06-28T07:16:19.269145Z",
     "iopub.status.idle": "2021-06-28T07:16:19.271884Z",
     "shell.execute_reply": "2021-06-28T07:16:19.271378Z",
     "shell.execute_reply.started": "2021-06-28T07:13:00.539264Z"
    },
    "papermill": {
     "duration": 0.026605,
     "end_time": "2021-06-28T07:16:19.271980",
     "exception": false,
     "start_time": "2021-06-28T07:16:19.245375",
     "status": "completed"
    },
    "tags": []
   },
   "outputs": [],
   "source": [
    "#微调学习率 \n",
    "def train_fine_tuning(net,learning_rate,param_group=True):\n",
    "    if param_group:\n",
    "        params_1x = [\n",
    "            param for name, param in net.named_parameters()\n",
    "            if name not in [\"fc.weight\", \"fc.bias\"]]\n",
    "        optimizer = torch.optim.Adam([{\n",
    "            'params': params_1x}, {\n",
    "                'params': net.fc.parameters(),\n",
    "                'lr': learning_rate * 10}], lr=learning_rate,  #10\n",
    "                                    weight_decay=0.001)\n",
    "    else:\n",
    "        optimizer = torch.optim.Adam(net.parameters(), lr=learning_rate* 0.2,\n",
    "                                      weight_decay=0.001)  \n",
    "    return optimizer"
   ]
  },
  {
   "cell_type": "code",
   "execution_count": null,
   "id": "filled-academy",
   "metadata": {
    "execution": {
     "iopub.execute_input": "2021-06-28T07:16:19.317667Z",
     "iopub.status.busy": "2021-06-28T07:16:19.312773Z",
     "iopub.status.idle": "2021-06-28T07:16:33.517325Z",
     "shell.execute_reply": "2021-06-28T07:16:33.516166Z",
     "shell.execute_reply.started": "2021-06-28T07:13:02.435909Z"
    },
    "papermill": {
     "duration": 14.227053,
     "end_time": "2021-06-28T07:16:33.517476",
     "exception": false,
     "start_time": "2021-06-28T07:16:19.290423",
     "status": "completed"
    },
    "tags": []
   },
   "outputs": [],
   "source": [
    "!pip install timm\n",
    "!pip install torchinfo\n",
    "import timm                     #timm库有更丰富的预训练模型\n",
    "from torchinfo import summary"
   ]
  },
  {
   "cell_type": "markdown",
   "id": "arbitrary-fortune",
   "metadata": {
    "papermill": {
     "duration": 0.02195,
     "end_time": "2021-06-28T07:16:33.561793",
     "exception": false,
     "start_time": "2021-06-28T07:16:33.539843",
     "status": "completed"
    },
    "tags": []
   },
   "source": [
    "这里选择同时训练三个模型，一个seresnext50，两个resnext50"
   ]
  },
  {
   "cell_type": "code",
   "execution_count": null,
   "id": "joint-entrance",
   "metadata": {
    "execution": {
     "iopub.execute_input": "2021-06-28T07:16:33.611215Z",
     "iopub.status.busy": "2021-06-28T07:16:33.610621Z",
     "iopub.status.idle": "2021-06-28T07:16:40.585408Z",
     "shell.execute_reply": "2021-06-28T07:16:40.584913Z",
     "shell.execute_reply.started": "2021-06-28T07:13:13.563401Z"
    },
    "papermill": {
     "duration": 7.001753,
     "end_time": "2021-06-28T07:16:40.585568",
     "exception": false,
     "start_time": "2021-06-28T07:16:33.583815",
     "status": "completed"
    },
    "tags": []
   },
   "outputs": [],
   "source": [
    "model_1 = timm.create_model('seresnext50_32x4d', pretrained=True)\n",
    "model_1.fc = nn.Linear(model_1.fc.in_features, 176)\n",
    "nn.init.xavier_uniform_(model_1.fc.weight);\n",
    "model_1 = model_1.to(device) #GPU\n",
    "model_1.device = device"
   ]
  },
  {
   "cell_type": "code",
   "execution_count": null,
   "id": "confirmed-council",
   "metadata": {
    "execution": {
     "iopub.execute_input": "2021-06-28T07:16:40.637260Z",
     "iopub.status.busy": "2021-06-28T07:16:40.636757Z",
     "iopub.status.idle": "2021-06-28T07:16:46.289110Z",
     "shell.execute_reply": "2021-06-28T07:16:46.288630Z",
     "shell.execute_reply.started": "2021-06-28T07:13:14.201687Z"
    },
    "papermill": {
     "duration": 5.678722,
     "end_time": "2021-06-28T07:16:46.289242",
     "exception": false,
     "start_time": "2021-06-28T07:16:40.610520",
     "status": "completed"
    },
    "tags": []
   },
   "outputs": [],
   "source": [
    "model_2 = models.resnext50_32x4d(pretrained=True)\n",
    "model_2.fc = nn.Linear(model_2.fc.in_features, 176)\n",
    "nn.init.xavier_uniform_(model_2.fc.weight);\n",
    "model_2 = model_2.to(device) #GPU\n",
    "model_2.device = device"
   ]
  },
  {
   "cell_type": "code",
   "execution_count": null,
   "id": "julian-bumper",
   "metadata": {
    "execution": {
     "iopub.execute_input": "2021-06-28T07:16:46.341293Z",
     "iopub.status.busy": "2021-06-28T07:16:46.340538Z",
     "iopub.status.idle": "2021-06-28T07:16:46.864655Z",
     "shell.execute_reply": "2021-06-28T07:16:46.864189Z",
     "shell.execute_reply.started": "2021-06-28T07:13:14.722547Z"
    },
    "papermill": {
     "duration": 0.552151,
     "end_time": "2021-06-28T07:16:46.864798",
     "exception": false,
     "start_time": "2021-06-28T07:16:46.312647",
     "status": "completed"
    },
    "tags": []
   },
   "outputs": [],
   "source": [
    "model_3 = models.resnext50_32x4d(pretrained=True)\n",
    "model_3.fc = nn.Linear(model_3.fc.in_features, 176)\n",
    "nn.init.xavier_uniform_(model_3.fc.weight);\n",
    "model_3 = model_3.to(device) #GPU\n",
    "model_3.device = device"
   ]
  },
  {
   "cell_type": "code",
   "execution_count": null,
   "id": "collected-python",
   "metadata": {
    "execution": {
     "iopub.execute_input": "2021-06-28T07:16:46.917692Z",
     "iopub.status.busy": "2021-06-28T07:16:46.916968Z",
     "iopub.status.idle": "2021-06-28T07:16:46.919754Z",
     "shell.execute_reply": "2021-06-28T07:16:46.919337Z",
     "shell.execute_reply.started": "2021-06-28T07:13:19.329915Z"
    },
    "papermill": {
     "duration": 0.031836,
     "end_time": "2021-06-28T07:16:46.919860",
     "exception": false,
     "start_time": "2021-06-28T07:16:46.888024",
     "status": "completed"
    },
    "tags": []
   },
   "outputs": [],
   "source": [
    "#cutmix计算裁剪区域\n",
    "def rand_bbox(size, lamb):  #计算自定义裁剪区域\n",
    "    W = size[2]\n",
    "    H = size[3]\n",
    "    cut_rat = np.sqrt(1. - lamb)\n",
    "    cut_w = np.int(W * cut_rat)\n",
    "    cut_h = np.int(H * cut_rat)\n",
    "\n",
    "    # uniform\n",
    "    cx = np.random.randint(W)\n",
    "    cy = np.random.randint(H)\n",
    "\n",
    "    bbx1 = np.clip(cx - cut_w // 2, 0, W)\n",
    "    bby1 = np.clip(cy - cut_h // 2, 0, H)\n",
    "    bbx2 = np.clip(cx + cut_w // 2, 0, W)\n",
    "    bby2 = np.clip(cy + cut_h // 2, 0, H)\n",
    "\n",
    "    return bbx1, bby1, bbx2, bby2"
   ]
  },
  {
   "cell_type": "markdown",
   "id": "mighty-iraqi",
   "metadata": {
    "papermill": {
     "duration": 0.022874,
     "end_time": "2021-06-28T07:16:46.965490",
     "exception": false,
     "start_time": "2021-06-28T07:16:46.942616",
     "status": "completed"
    },
    "tags": []
   },
   "source": [
    "训练函数这里采用了lr_scheduler改变学习率\n",
    "\n",
    "个人感觉ReduceLROnPlateau相对而言更加方便一些"
   ]
  },
  {
   "cell_type": "code",
   "execution_count": null,
   "id": "conceptual-cartridge",
   "metadata": {
    "execution": {
     "iopub.execute_input": "2021-06-28T07:16:47.015017Z",
     "iopub.status.busy": "2021-06-28T07:16:47.014142Z",
     "iopub.status.idle": "2021-06-28T07:16:47.030271Z",
     "shell.execute_reply": "2021-06-28T07:16:47.029875Z",
     "shell.execute_reply.started": "2021-06-28T07:13:22.299077Z"
    },
    "papermill": {
     "duration": 0.041926,
     "end_time": "2021-06-28T07:16:47.030376",
     "exception": false,
     "start_time": "2021-06-28T07:16:46.988450",
     "status": "completed"
    },
    "tags": []
   },
   "outputs": [],
   "source": [
    "#训练函数\n",
    "def train_2(model): \n",
    "    optimizer = train_fine_tuning(model, learning_rate)\n",
    "    # 对于分类任务，我们使用交叉熵作为性能的度量。\n",
    "    criterion = nn.CrossEntropyLoss()\n",
    "    # 定义学习率衰减\n",
    "    #scheduler = torch.optim.lr_scheduler.StepLR(optimizer, step_size=10, gamma=0.1) #按照epoch衰减  不好用\n",
    "    #scheduler = torch.optim.lr_scheduler.CosineAnnealingLR(optimizer, T_max=40,eta_min=0.00000001)  #余弦变化\n",
    "    scheduler = torch.optim.lr_scheduler.ReduceLROnPlateau(optimizer, mode='min', factor=0.5, patience=3, verbose=True, min_lr=0.0000001)\n",
    "    # 初始化优化器，您可以自行微调一些超参数，如学习速率。此处用的Adam\n",
    "    #optimizer = torch.optim.Adam(model.parameters(), lr = learning_rate, weight_decay=weight_decay)\n",
    "    \n",
    "    # 训练次数\n",
    "    n_epochs = num_epoch\n",
    "    \n",
    "    best_acc = 0.0\n",
    "    for epoch in range(n_epochs):\n",
    "        # ---------- Training ----------  以下是训练模型\n",
    "        # 训练前确保模型处于训练模式。\n",
    "        model.train() \n",
    "        # 记录训练信息\n",
    "        train_loss = []\n",
    "        train_accs = []\n",
    "        # 按批迭代训练集。\n",
    "        for batch in tqdm(train_loader):\n",
    "            # batch由图像数据和相应的标签组成。\n",
    "            imgs, labels = batch\n",
    "            imgs = imgs.to(device)    #数据移动到GPU\n",
    "            labels = labels.to(device)\n",
    "            \n",
    "            #图片裁剪 CUTMIX训练代码\n",
    "            lam = np.random.beta(beta, beta) #生成随机裁剪权重\n",
    "            rand_index = torch.randperm(imgs.size()[0]).to(device) #打乱样本生成拼接样本\n",
    "            labels_a = labels  #正常样本标签\n",
    "            labels_b = labels[rand_index]  #乱序样本标签\n",
    "            bbx1, bby1, bbx2, bby2 = rand_bbox(imgs.size(), lam) #生成裁剪区域\n",
    "            #将原样本中bbx1:bbx2, bby1:bby2区域改成乱序样本标签对应的区域\n",
    "            imgs[:, :, bbx1:bbx2, bby1:bby2] = imgs[rand_index, :, bbx1:bbx2, bby1:bby2]\n",
    "            #重新计算lambda以精确匹配像素比率（因为有可能裁剪超出边界）\n",
    "            lam = 1 - ((bbx2 - bbx1) * (bby2 - bby1) / (imgs.size()[-1] * imgs.size()[-2]))\n",
    "            # Forward the data. (Make sure data and model are on the same device.)\n",
    "            logits = model(imgs)  #将图形数据带入模型计算预测\n",
    "            # 计算交叉熵损失(注意是两个样本的损失按照分割比例加权求和)\n",
    "            loss = criterion(logits, labels_a) * lam + criterion(logits, labels_b) * (1. - lam)\n",
    "            \n",
    "            \n",
    "            # 清除上一步中存储在参数中的梯度。\n",
    "            optimizer.zero_grad()\n",
    "            # 计算参数的梯度。\n",
    "            loss.backward()\n",
    "            # 用计算的梯度更新参数。\n",
    "            optimizer.step()\n",
    "        \n",
    "            # 计算当前批次的精度。\n",
    "            acc = (logits.argmax(dim=-1) == labels).float().mean()\n",
    "    \n",
    "            # 记录损失和准确度\n",
    "            train_loss.append(loss.item())\n",
    "            train_accs.append(acc)\n",
    "            \n",
    "                \n",
    "            \n",
    "        # 训练集的平均损失和精度是记录值的平均值。\n",
    "        train_loss = sum(train_loss) / len(train_loss)\n",
    "        train_acc = sum(train_accs) / len(train_accs)\n",
    "        \n",
    "        \n",
    "        #更新学习率\n",
    "        print(\"第%d个epoch的学习率：%f\" % (epoch, optimizer.param_groups[0]['lr']))\n",
    "        scheduler.step(train_loss)\n",
    "        \n",
    "        \n",
    "        # 打印信息\n",
    "        print(f\"[ Train | {epoch + 1:03d}/{n_epochs:03d} ] loss = {train_loss:.5f}, acc = {train_acc:.5f}\")\n",
    "            \n",
    "            \n",
    "        # ---------- 验证 ----------\n",
    "        #这里我认为在验证处也加上TTA也许更加合理，因为前面对图像进行了变换，\n",
    "        #在验证的时候也将图像进行相对应的变换可能能够提取更多的特征。\n",
    "        # 确保模型处于eval模式，以便禁用dropout等模块并正常工作。\n",
    "        model.eval()\n",
    "        # 这些用于记录验证中的信息\n",
    "        valid_loss = []\n",
    "        valid_accs = []\n",
    "        \n",
    "        # 逐批迭代验证集。\n",
    "        for batch in tqdm(val_loader):\n",
    "            imgs, labels = batch\n",
    "            # 不需要梯度验证.\n",
    "            # Using  torch.no_grad()  accelerates the forward process.\n",
    "            with torch.no_grad():\n",
    "                logits = model(imgs.to(device))\n",
    "                  \n",
    "            # 我们仍然可以计算损失（但不能计算梯度）。\n",
    "            loss = criterion(logits, labels.to(device))\n",
    "    \n",
    "            # 计算当前批次的精度。\n",
    "            acc = (logits.argmax(dim=-1) == labels.to(device)).float().mean()\n",
    "    \n",
    "            # 记录损失和准确性\n",
    "            valid_loss.append(loss.item())\n",
    "            valid_accs.append(acc)\n",
    "              \n",
    "        # 整个验证集的平均损失和准确度是记录值的平均值\n",
    "        valid_loss = sum(valid_loss) / len(valid_loss)\n",
    "        valid_acc = sum(valid_accs) / len(valid_accs)\n",
    "    \n",
    "        # 打印信息.\n",
    "        print(f\"[ Valid | {epoch + 1:03d}/{n_epochs:03d} ] loss = {valid_loss:.5f}, acc = {valid_acc:.5f}\")\n",
    "            \n",
    "        # 如果模型改进了，在这个时间点保存一个检查点\n",
    "        if valid_acc > best_acc:\n",
    "            best_acc = valid_acc\n",
    "            torch.save(model.state_dict(), model_path)\n",
    "            print('saving model with acc {:.3f}'.format(best_acc))"
   ]
  },
  {
   "cell_type": "code",
   "execution_count": null,
   "id": "extra-carroll",
   "metadata": {
    "execution": {
     "iopub.execute_input": "2021-06-28T07:16:47.079449Z",
     "iopub.status.busy": "2021-06-28T07:16:47.078805Z",
     "iopub.status.idle": "2021-06-28T07:16:47.081137Z",
     "shell.execute_reply": "2021-06-28T07:16:47.081520Z",
     "shell.execute_reply.started": "2021-06-28T07:13:27.211651Z"
    },
    "papermill": {
     "duration": 0.028303,
     "end_time": "2021-06-28T07:16:47.081640",
     "exception": false,
     "start_time": "2021-06-28T07:16:47.053337",
     "status": "completed"
    },
    "tags": []
   },
   "outputs": [],
   "source": [
    "saveFileName = './submission.csv'"
   ]
  },
  {
   "cell_type": "code",
   "execution_count": null,
   "id": "cathedral-penguin",
   "metadata": {
    "execution": {
     "iopub.execute_input": "2021-06-28T07:16:47.130918Z",
     "iopub.status.busy": "2021-06-28T07:16:47.130209Z",
     "iopub.status.idle": "2021-06-28T07:16:47.132520Z",
     "shell.execute_reply": "2021-06-28T07:16:47.132894Z",
     "shell.execute_reply.started": "2021-06-28T07:13:28.366847Z"
    },
    "papermill": {
     "duration": 0.028651,
     "end_time": "2021-06-28T07:16:47.133012",
     "exception": false,
     "start_time": "2021-06-28T07:16:47.104361",
     "status": "completed"
    },
    "tags": []
   },
   "outputs": [],
   "source": [
    "#分别训练三个模型并将最优参数保存到相应的模型里\n",
    "#train_2(model_1)\n",
    "#model_1.load_state_dict(torch.load(model_path)) #加载训练结果\n",
    "#train_2(model_2)\n",
    "#model_2.load_state_dict(torch.load(model_path))\n",
    "#train_2(model_3)\n",
    "#model_3.load_state_dict(torch.load(model_path))"
   ]
  },
  {
   "cell_type": "code",
   "execution_count": null,
   "id": "fewer-store",
   "metadata": {
    "execution": {
     "iopub.execute_input": "2021-06-28T07:16:47.182628Z",
     "iopub.status.busy": "2021-06-28T07:16:47.182117Z",
     "iopub.status.idle": "2021-06-28T07:16:51.519006Z",
     "shell.execute_reply": "2021-06-28T07:16:51.519721Z",
     "shell.execute_reply.started": "2021-06-28T07:15:03.568214Z"
    },
    "papermill": {
     "duration": 4.363617,
     "end_time": "2021-06-28T07:16:51.519893",
     "exception": false,
     "start_time": "2021-06-28T07:16:47.156276",
     "status": "completed"
    },
    "tags": []
   },
   "outputs": [],
   "source": [
    "#加载预训练模型   \n",
    "model_1.load_state_dict(torch.load('../data/modlesckpy/seresnext50_32x4d_981.ckpt'))\n",
    "model_2.load_state_dict(torch.load('../data/modlesckpy/resnext50_32x4d_982.ckpt'))\n",
    "model_3.load_state_dict(torch.load('../data/modlesckpy/resnext50_32x4d_981.ckpt'))"
   ]
  },
  {
   "cell_type": "code",
   "execution_count": null,
   "id": "veterinary-boutique",
   "metadata": {
    "execution": {
     "iopub.execute_input": "2021-06-28T07:16:51.580186Z",
     "iopub.status.busy": "2021-06-28T07:16:51.579660Z",
     "iopub.status.idle": "2021-06-28T07:22:17.127899Z",
     "shell.execute_reply": "2021-06-28T07:22:17.127426Z"
    },
    "papermill": {
     "duration": 325.582784,
     "end_time": "2021-06-28T07:22:17.128018",
     "exception": false,
     "start_time": "2021-06-28T07:16:51.545234",
     "status": "completed"
    },
    "tags": []
   },
   "outputs": [],
   "source": [
    "# 确保模型处于eval模式.\n",
    "# 一些模块如 Dropout or BatchNorm 会影响性能 如果模型处于训练模式.\n",
    "model_1.eval()\n",
    "model_2.eval()\n",
    "model_3.eval()\n",
    "#加载TTA\n",
    "#tta_model = tta.ClassificationTTAWrapper(model, tta.aliases.d4_transform(),  merge_mode='mean')\n",
    "tta_model_1 = tta.ClassificationTTAWrapper(model_1, tta.aliases.flip_transform(),  merge_mode='mean')\n",
    "tta_model_2 = tta.ClassificationTTAWrapper(model_2, tta.aliases.flip_transform(),  merge_mode='mean')\n",
    "tta_model_3 = tta.ClassificationTTAWrapper(model_3, tta.aliases.flip_transform(),  merge_mode='mean')\n",
    "\n",
    "# 初始化存储预测的列表。\n",
    "predictions = []\n",
    "# 逐批迭代测试集.\n",
    "for batch in tqdm(test_loader):\n",
    "    \n",
    "    imgs = batch\n",
    "    with torch.no_grad():\n",
    "        logits_1 = tta_model_1(imgs.to(device))  #预测\n",
    "        logits_2 = tta_model_2(imgs.to(device))\n",
    "        logits_3 = tta_model_3(imgs.to(device))\n",
    "        \n",
    "        logits = 0.5*logits_1+0.5*logits_2+0.5*logits_3\n",
    "        #logits = logits_2+logits_3\n",
    "    # 以最大的logit类为预测，并记录下来\n",
    "    predictions.extend(logits.argmax(dim=-1).cpu().numpy().tolist())\n",
    "\n",
    "preds = []\n",
    "for i in predictions:\n",
    "    preds.append(num_to_class[i])  # 将预测的数字类别还原为类别名称\n",
    "\n",
    "test_data = pd.read_csv(test_path) #读取预测数据集\n",
    "test_data['label'] = pd.Series(preds)  #将预测的类型名整理成一维数组\n",
    "submission = pd.concat([test_data['image'], test_data['label']], axis=1)\n",
    "submission.to_csv(saveFileName, index=False)\n",
    "print(\"Done!!!!!!!!!!!!!!!!!!!!!!!!!!!\")"
   ]
  }
 ],
 "metadata": {
  "kernelspec": {
   "display_name": "torch",
   "language": "python",
   "name": "python3"
  },
  "language_info": {
   "codemirror_mode": {
    "name": "ipython",
    "version": 3
   },
   "file_extension": ".py",
   "mimetype": "text/x-python",
   "name": "python",
   "nbconvert_exporter": "python",
   "pygments_lexer": "ipython3",
   "version": "3.10.9 (main, Jan 11 2023, 15:21:40) [GCC 11.2.0]"
  },
  "papermill": {
   "default_parameters": {},
   "duration": 375.778242,
   "end_time": "2021-06-28T07:22:18.866677",
   "environment_variables": {},
   "exception": null,
   "input_path": "__notebook__.ipynb",
   "output_path": "__notebook__.ipynb",
   "parameters": {},
   "start_time": "2021-06-28T07:16:03.088435",
   "version": "2.3.3"
  },
  "vscode": {
   "interpreter": {
    "hash": "c44678fd19ad019ded79369569e5d8df0528d61f5c93a61b5bcbc1a4ac615169"
   }
  },
  "widgets": {
   "application/vnd.jupyter.widget-state+json": {
    "state": {
     "09341e588b0e43069ce722749d09debe": {
      "model_module": "@jupyter-widgets/base",
      "model_module_version": "1.2.0",
      "model_name": "LayoutModel",
      "state": {
       "_model_module": "@jupyter-widgets/base",
       "_model_module_version": "1.2.0",
       "_model_name": "LayoutModel",
       "_view_count": null,
       "_view_module": "@jupyter-widgets/base",
       "_view_module_version": "1.2.0",
       "_view_name": "LayoutView",
       "align_content": null,
       "align_items": null,
       "align_self": null,
       "border": null,
       "bottom": null,
       "display": null,
       "flex": null,
       "flex_flow": null,
       "grid_area": null,
       "grid_auto_columns": null,
       "grid_auto_flow": null,
       "grid_auto_rows": null,
       "grid_column": null,
       "grid_gap": null,
       "grid_row": null,
       "grid_template_areas": null,
       "grid_template_columns": null,
       "grid_template_rows": null,
       "height": null,
       "justify_content": null,
       "justify_items": null,
       "left": null,
       "margin": null,
       "max_height": null,
       "max_width": null,
       "min_height": null,
       "min_width": null,
       "object_fit": null,
       "object_position": null,
       "order": null,
       "overflow": null,
       "overflow_x": null,
       "overflow_y": null,
       "padding": null,
       "right": null,
       "top": null,
       "visibility": null,
       "width": null
      }
     },
     "13b9adb4ccf144ae84d54b7c62a9f237": {
      "model_module": "@jupyter-widgets/controls",
      "model_module_version": "1.5.0",
      "model_name": "HTMLModel",
      "state": {
       "_dom_classes": [],
       "_model_module": "@jupyter-widgets/controls",
       "_model_module_version": "1.5.0",
       "_model_name": "HTMLModel",
       "_view_count": null,
       "_view_module": "@jupyter-widgets/controls",
       "_view_module_version": "1.5.0",
       "_view_name": "HTMLView",
       "description": "",
       "description_tooltip": null,
       "layout": "IPY_MODEL_5076aed2f5c24c528250537b670c837d",
       "placeholder": "​",
       "style": "IPY_MODEL_18d1f39d83c74c06bf470b260e420244",
       "value": " 95.8M/95.8M [00:04&lt;00:00, 25.1MB/s]"
      }
     },
     "159c9f5b17b641879a6c40fdc3b02676": {
      "model_module": "@jupyter-widgets/controls",
      "model_module_version": "1.5.0",
      "model_name": "FloatProgressModel",
      "state": {
       "_dom_classes": [],
       "_model_module": "@jupyter-widgets/controls",
       "_model_module_version": "1.5.0",
       "_model_name": "FloatProgressModel",
       "_view_count": null,
       "_view_module": "@jupyter-widgets/controls",
       "_view_module_version": "1.5.0",
       "_view_name": "ProgressView",
       "bar_style": "success",
       "description": "",
       "description_tooltip": null,
       "layout": "IPY_MODEL_bfaab517a0114985a182a83d90b683d1",
       "max": 100441675,
       "min": 0,
       "orientation": "horizontal",
       "style": "IPY_MODEL_6ac692d513554c4b9440b8e5eaf9401f",
       "value": 100441675
      }
     },
     "18d1f39d83c74c06bf470b260e420244": {
      "model_module": "@jupyter-widgets/controls",
      "model_module_version": "1.5.0",
      "model_name": "DescriptionStyleModel",
      "state": {
       "_model_module": "@jupyter-widgets/controls",
       "_model_module_version": "1.5.0",
       "_model_name": "DescriptionStyleModel",
       "_view_count": null,
       "_view_module": "@jupyter-widgets/base",
       "_view_module_version": "1.2.0",
       "_view_name": "StyleView",
       "description_width": ""
      }
     },
     "4f3725d33a8f4d6fa88978eb4775491f": {
      "model_module": "@jupyter-widgets/controls",
      "model_module_version": "1.5.0",
      "model_name": "HTMLModel",
      "state": {
       "_dom_classes": [],
       "_model_module": "@jupyter-widgets/controls",
       "_model_module_version": "1.5.0",
       "_model_name": "HTMLModel",
       "_view_count": null,
       "_view_module": "@jupyter-widgets/controls",
       "_view_module_version": "1.5.0",
       "_view_name": "HTMLView",
       "description": "",
       "description_tooltip": null,
       "layout": "IPY_MODEL_09341e588b0e43069ce722749d09debe",
       "placeholder": "​",
       "style": "IPY_MODEL_91063b3d7e244e3987056a9bd76138f0",
       "value": "100%"
      }
     },
     "4f539b648c8e47e4af8ef37c5653e813": {
      "model_module": "@jupyter-widgets/controls",
      "model_module_version": "1.5.0",
      "model_name": "HBoxModel",
      "state": {
       "_dom_classes": [],
       "_model_module": "@jupyter-widgets/controls",
       "_model_module_version": "1.5.0",
       "_model_name": "HBoxModel",
       "_view_count": null,
       "_view_module": "@jupyter-widgets/controls",
       "_view_module_version": "1.5.0",
       "_view_name": "HBoxView",
       "box_style": "",
       "children": [
        "IPY_MODEL_4f3725d33a8f4d6fa88978eb4775491f",
        "IPY_MODEL_159c9f5b17b641879a6c40fdc3b02676",
        "IPY_MODEL_13b9adb4ccf144ae84d54b7c62a9f237"
       ],
       "layout": "IPY_MODEL_b73cccce3bc34f409450fe841202b659"
      }
     },
     "5076aed2f5c24c528250537b670c837d": {
      "model_module": "@jupyter-widgets/base",
      "model_module_version": "1.2.0",
      "model_name": "LayoutModel",
      "state": {
       "_model_module": "@jupyter-widgets/base",
       "_model_module_version": "1.2.0",
       "_model_name": "LayoutModel",
       "_view_count": null,
       "_view_module": "@jupyter-widgets/base",
       "_view_module_version": "1.2.0",
       "_view_name": "LayoutView",
       "align_content": null,
       "align_items": null,
       "align_self": null,
       "border": null,
       "bottom": null,
       "display": null,
       "flex": null,
       "flex_flow": null,
       "grid_area": null,
       "grid_auto_columns": null,
       "grid_auto_flow": null,
       "grid_auto_rows": null,
       "grid_column": null,
       "grid_gap": null,
       "grid_row": null,
       "grid_template_areas": null,
       "grid_template_columns": null,
       "grid_template_rows": null,
       "height": null,
       "justify_content": null,
       "justify_items": null,
       "left": null,
       "margin": null,
       "max_height": null,
       "max_width": null,
       "min_height": null,
       "min_width": null,
       "object_fit": null,
       "object_position": null,
       "order": null,
       "overflow": null,
       "overflow_x": null,
       "overflow_y": null,
       "padding": null,
       "right": null,
       "top": null,
       "visibility": null,
       "width": null
      }
     },
     "6ac692d513554c4b9440b8e5eaf9401f": {
      "model_module": "@jupyter-widgets/controls",
      "model_module_version": "1.5.0",
      "model_name": "ProgressStyleModel",
      "state": {
       "_model_module": "@jupyter-widgets/controls",
       "_model_module_version": "1.5.0",
       "_model_name": "ProgressStyleModel",
       "_view_count": null,
       "_view_module": "@jupyter-widgets/base",
       "_view_module_version": "1.2.0",
       "_view_name": "StyleView",
       "bar_color": null,
       "description_width": ""
      }
     },
     "91063b3d7e244e3987056a9bd76138f0": {
      "model_module": "@jupyter-widgets/controls",
      "model_module_version": "1.5.0",
      "model_name": "DescriptionStyleModel",
      "state": {
       "_model_module": "@jupyter-widgets/controls",
       "_model_module_version": "1.5.0",
       "_model_name": "DescriptionStyleModel",
       "_view_count": null,
       "_view_module": "@jupyter-widgets/base",
       "_view_module_version": "1.2.0",
       "_view_name": "StyleView",
       "description_width": ""
      }
     },
     "b73cccce3bc34f409450fe841202b659": {
      "model_module": "@jupyter-widgets/base",
      "model_module_version": "1.2.0",
      "model_name": "LayoutModel",
      "state": {
       "_model_module": "@jupyter-widgets/base",
       "_model_module_version": "1.2.0",
       "_model_name": "LayoutModel",
       "_view_count": null,
       "_view_module": "@jupyter-widgets/base",
       "_view_module_version": "1.2.0",
       "_view_name": "LayoutView",
       "align_content": null,
       "align_items": null,
       "align_self": null,
       "border": null,
       "bottom": null,
       "display": null,
       "flex": null,
       "flex_flow": null,
       "grid_area": null,
       "grid_auto_columns": null,
       "grid_auto_flow": null,
       "grid_auto_rows": null,
       "grid_column": null,
       "grid_gap": null,
       "grid_row": null,
       "grid_template_areas": null,
       "grid_template_columns": null,
       "grid_template_rows": null,
       "height": null,
       "justify_content": null,
       "justify_items": null,
       "left": null,
       "margin": null,
       "max_height": null,
       "max_width": null,
       "min_height": null,
       "min_width": null,
       "object_fit": null,
       "object_position": null,
       "order": null,
       "overflow": null,
       "overflow_x": null,
       "overflow_y": null,
       "padding": null,
       "right": null,
       "top": null,
       "visibility": null,
       "width": null
      }
     },
     "bfaab517a0114985a182a83d90b683d1": {
      "model_module": "@jupyter-widgets/base",
      "model_module_version": "1.2.0",
      "model_name": "LayoutModel",
      "state": {
       "_model_module": "@jupyter-widgets/base",
       "_model_module_version": "1.2.0",
       "_model_name": "LayoutModel",
       "_view_count": null,
       "_view_module": "@jupyter-widgets/base",
       "_view_module_version": "1.2.0",
       "_view_name": "LayoutView",
       "align_content": null,
       "align_items": null,
       "align_self": null,
       "border": null,
       "bottom": null,
       "display": null,
       "flex": null,
       "flex_flow": null,
       "grid_area": null,
       "grid_auto_columns": null,
       "grid_auto_flow": null,
       "grid_auto_rows": null,
       "grid_column": null,
       "grid_gap": null,
       "grid_row": null,
       "grid_template_areas": null,
       "grid_template_columns": null,
       "grid_template_rows": null,
       "height": null,
       "justify_content": null,
       "justify_items": null,
       "left": null,
       "margin": null,
       "max_height": null,
       "max_width": null,
       "min_height": null,
       "min_width": null,
       "object_fit": null,
       "object_position": null,
       "order": null,
       "overflow": null,
       "overflow_x": null,
       "overflow_y": null,
       "padding": null,
       "right": null,
       "top": null,
       "visibility": null,
       "width": null
      }
     }
    },
    "version_major": 2,
    "version_minor": 0
   }
  }
 },
 "nbformat": 4,
 "nbformat_minor": 5
}
