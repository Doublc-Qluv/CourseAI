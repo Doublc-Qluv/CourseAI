{
 "cells": [
  {
   "attachments": {},
   "cell_type": "markdown",
   "metadata": {},
   "source": [
    "# NiN\n",
    "\n",
    "- 全连接的问题\n",
    "- -卷积层需要较少的参数$c_i \\times c_o \\times k^2$\n",
    "- 但卷积层后的第一个全连接层的参数\n",
    "  - LeNet   16x5x5x120=48k\n",
    "  - AlexNet 256x5x5x4096=26M\n",
    "  - VGG  512x7x7x4096=102M\n",
    "\n",
    "## NiN块\n",
    "- 一个卷积层后跟两个全连接层\n",
    "  - 步幅1，无填充，输出形状跟卷积层输出一样\n",
    "  - 起到全连接层的作用\n",
    "\n",
    "## NiN架构\n",
    "- 无全连接层\n",
    "- 交替使用NiN块和步幅为2的最大池化层\n",
    "  - 逐步减少高宽和增大通道数\n",
    "- 最后使用全局平均池化层得到输出\n",
    "  - 其输入通道数是类别数"
   ]
  }
 ],
 "metadata": {
  "kernelspec": {
   "display_name": "torch",
   "language": "python",
   "name": "python3"
  },
  "language_info": {
   "name": "python",
   "version": "3.7.0"
  },
  "orig_nbformat": 4,
  "vscode": {
   "interpreter": {
    "hash": "bfe6d3f1965e0851ced6ef17603d711146f9008773bc29cbeb0f6fa859e66f8f"
   }
  }
 },
 "nbformat": 4,
 "nbformat_minor": 2
}
